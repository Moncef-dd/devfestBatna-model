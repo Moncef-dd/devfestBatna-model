{
  "cells": [
    {
      "cell_type": "markdown",
      "metadata": {
        "colab_type": "text",
        "id": "view-in-github"
      },
      "source": [
        "<a href=\"https://colab.research.google.com/github/BrouthenKamel/Machine_Learning_Project/blob/main/Heart_Attack_Prediction_Project.ipynb\" target=\"_parent\"><img src=\"https://colab.research.google.com/assets/colab-badge.svg\" alt=\"Open In Colab\"/></a>"
      ]
    },
    {
      "cell_type": "code",
      "execution_count": 314,
      "metadata": {
        "id": "gexbfPdgwIlI"
      },
      "outputs": [],
      "source": [
        "import pandas as pd\n",
        "import numpy as np\n",
        "import matplotlib.pyplot as plt\n",
        "import sklearn"
      ]
    },
    {
      "cell_type": "code",
      "execution_count": 315,
      "metadata": {
        "id": "eypIdrSRwbFh"
      },
      "outputs": [],
      "source": [
        "dataset = pd.read_csv(\"heart_statlog_cleveland_hungary_final.csv\")"
      ]
    },
    {
      "cell_type": "code",
      "execution_count": 316,
      "metadata": {
        "colab": {
          "base_uri": "https://localhost:8080/",
          "height": 485
        },
        "id": "xL8DrK2RwjN9",
        "outputId": "05ea8ea7-3271-4123-da35-35222dff20cc"
      },
      "outputs": [
        {
          "data": {
            "text/html": [
              "<div>\n",
              "<style scoped>\n",
              "    .dataframe tbody tr th:only-of-type {\n",
              "        vertical-align: middle;\n",
              "    }\n",
              "\n",
              "    .dataframe tbody tr th {\n",
              "        vertical-align: top;\n",
              "    }\n",
              "\n",
              "    .dataframe thead th {\n",
              "        text-align: right;\n",
              "    }\n",
              "</style>\n",
              "<table border=\"1\" class=\"dataframe\">\n",
              "  <thead>\n",
              "    <tr style=\"text-align: right;\">\n",
              "      <th></th>\n",
              "      <th>age</th>\n",
              "      <th>sex</th>\n",
              "      <th>chest pain type</th>\n",
              "      <th>resting bp s</th>\n",
              "      <th>cholesterol</th>\n",
              "      <th>fasting blood sugar</th>\n",
              "      <th>resting ecg</th>\n",
              "      <th>max heart rate</th>\n",
              "      <th>exercise angina</th>\n",
              "      <th>oldpeak</th>\n",
              "      <th>ST slope</th>\n",
              "      <th>target</th>\n",
              "    </tr>\n",
              "  </thead>\n",
              "  <tbody>\n",
              "    <tr>\n",
              "      <th>0</th>\n",
              "      <td>40</td>\n",
              "      <td>1</td>\n",
              "      <td>2</td>\n",
              "      <td>140</td>\n",
              "      <td>289</td>\n",
              "      <td>0</td>\n",
              "      <td>0</td>\n",
              "      <td>172</td>\n",
              "      <td>0</td>\n",
              "      <td>0.0</td>\n",
              "      <td>1</td>\n",
              "      <td>0</td>\n",
              "    </tr>\n",
              "    <tr>\n",
              "      <th>1</th>\n",
              "      <td>49</td>\n",
              "      <td>0</td>\n",
              "      <td>3</td>\n",
              "      <td>160</td>\n",
              "      <td>180</td>\n",
              "      <td>0</td>\n",
              "      <td>0</td>\n",
              "      <td>156</td>\n",
              "      <td>0</td>\n",
              "      <td>1.0</td>\n",
              "      <td>2</td>\n",
              "      <td>1</td>\n",
              "    </tr>\n",
              "    <tr>\n",
              "      <th>2</th>\n",
              "      <td>37</td>\n",
              "      <td>1</td>\n",
              "      <td>2</td>\n",
              "      <td>130</td>\n",
              "      <td>283</td>\n",
              "      <td>0</td>\n",
              "      <td>1</td>\n",
              "      <td>98</td>\n",
              "      <td>0</td>\n",
              "      <td>0.0</td>\n",
              "      <td>1</td>\n",
              "      <td>0</td>\n",
              "    </tr>\n",
              "    <tr>\n",
              "      <th>3</th>\n",
              "      <td>48</td>\n",
              "      <td>0</td>\n",
              "      <td>4</td>\n",
              "      <td>138</td>\n",
              "      <td>214</td>\n",
              "      <td>0</td>\n",
              "      <td>0</td>\n",
              "      <td>108</td>\n",
              "      <td>1</td>\n",
              "      <td>1.5</td>\n",
              "      <td>2</td>\n",
              "      <td>1</td>\n",
              "    </tr>\n",
              "    <tr>\n",
              "      <th>4</th>\n",
              "      <td>54</td>\n",
              "      <td>1</td>\n",
              "      <td>3</td>\n",
              "      <td>150</td>\n",
              "      <td>195</td>\n",
              "      <td>0</td>\n",
              "      <td>0</td>\n",
              "      <td>122</td>\n",
              "      <td>0</td>\n",
              "      <td>0.0</td>\n",
              "      <td>1</td>\n",
              "      <td>0</td>\n",
              "    </tr>\n",
              "    <tr>\n",
              "      <th>...</th>\n",
              "      <td>...</td>\n",
              "      <td>...</td>\n",
              "      <td>...</td>\n",
              "      <td>...</td>\n",
              "      <td>...</td>\n",
              "      <td>...</td>\n",
              "      <td>...</td>\n",
              "      <td>...</td>\n",
              "      <td>...</td>\n",
              "      <td>...</td>\n",
              "      <td>...</td>\n",
              "      <td>...</td>\n",
              "    </tr>\n",
              "    <tr>\n",
              "      <th>1185</th>\n",
              "      <td>45</td>\n",
              "      <td>1</td>\n",
              "      <td>1</td>\n",
              "      <td>110</td>\n",
              "      <td>264</td>\n",
              "      <td>0</td>\n",
              "      <td>0</td>\n",
              "      <td>132</td>\n",
              "      <td>0</td>\n",
              "      <td>1.2</td>\n",
              "      <td>2</td>\n",
              "      <td>1</td>\n",
              "    </tr>\n",
              "    <tr>\n",
              "      <th>1186</th>\n",
              "      <td>68</td>\n",
              "      <td>1</td>\n",
              "      <td>4</td>\n",
              "      <td>144</td>\n",
              "      <td>193</td>\n",
              "      <td>1</td>\n",
              "      <td>0</td>\n",
              "      <td>141</td>\n",
              "      <td>0</td>\n",
              "      <td>3.4</td>\n",
              "      <td>2</td>\n",
              "      <td>1</td>\n",
              "    </tr>\n",
              "    <tr>\n",
              "      <th>1187</th>\n",
              "      <td>57</td>\n",
              "      <td>1</td>\n",
              "      <td>4</td>\n",
              "      <td>130</td>\n",
              "      <td>131</td>\n",
              "      <td>0</td>\n",
              "      <td>0</td>\n",
              "      <td>115</td>\n",
              "      <td>1</td>\n",
              "      <td>1.2</td>\n",
              "      <td>2</td>\n",
              "      <td>1</td>\n",
              "    </tr>\n",
              "    <tr>\n",
              "      <th>1188</th>\n",
              "      <td>57</td>\n",
              "      <td>0</td>\n",
              "      <td>2</td>\n",
              "      <td>130</td>\n",
              "      <td>236</td>\n",
              "      <td>0</td>\n",
              "      <td>2</td>\n",
              "      <td>174</td>\n",
              "      <td>0</td>\n",
              "      <td>0.0</td>\n",
              "      <td>2</td>\n",
              "      <td>1</td>\n",
              "    </tr>\n",
              "    <tr>\n",
              "      <th>1189</th>\n",
              "      <td>38</td>\n",
              "      <td>1</td>\n",
              "      <td>3</td>\n",
              "      <td>138</td>\n",
              "      <td>175</td>\n",
              "      <td>0</td>\n",
              "      <td>0</td>\n",
              "      <td>173</td>\n",
              "      <td>0</td>\n",
              "      <td>0.0</td>\n",
              "      <td>1</td>\n",
              "      <td>0</td>\n",
              "    </tr>\n",
              "  </tbody>\n",
              "</table>\n",
              "<p>1190 rows × 12 columns</p>\n",
              "</div>"
            ],
            "text/plain": [
              "      age  sex  chest pain type  resting bp s  cholesterol  \\\n",
              "0      40    1                2           140          289   \n",
              "1      49    0                3           160          180   \n",
              "2      37    1                2           130          283   \n",
              "3      48    0                4           138          214   \n",
              "4      54    1                3           150          195   \n",
              "...   ...  ...              ...           ...          ...   \n",
              "1185   45    1                1           110          264   \n",
              "1186   68    1                4           144          193   \n",
              "1187   57    1                4           130          131   \n",
              "1188   57    0                2           130          236   \n",
              "1189   38    1                3           138          175   \n",
              "\n",
              "      fasting blood sugar  resting ecg  max heart rate  exercise angina  \\\n",
              "0                       0            0             172                0   \n",
              "1                       0            0             156                0   \n",
              "2                       0            1              98                0   \n",
              "3                       0            0             108                1   \n",
              "4                       0            0             122                0   \n",
              "...                   ...          ...             ...              ...   \n",
              "1185                    0            0             132                0   \n",
              "1186                    1            0             141                0   \n",
              "1187                    0            0             115                1   \n",
              "1188                    0            2             174                0   \n",
              "1189                    0            0             173                0   \n",
              "\n",
              "      oldpeak  ST slope  target  \n",
              "0         0.0         1       0  \n",
              "1         1.0         2       1  \n",
              "2         0.0         1       0  \n",
              "3         1.5         2       1  \n",
              "4         0.0         1       0  \n",
              "...       ...       ...     ...  \n",
              "1185      1.2         2       1  \n",
              "1186      3.4         2       1  \n",
              "1187      1.2         2       1  \n",
              "1188      0.0         2       1  \n",
              "1189      0.0         1       0  \n",
              "\n",
              "[1190 rows x 12 columns]"
            ]
          },
          "execution_count": 316,
          "metadata": {},
          "output_type": "execute_result"
        }
      ],
      "source": [
        "dataset"
      ]
    },
    {
      "attachments": {},
      "cell_type": "markdown",
      "metadata": {
        "id": "7WlGvnpNCroE"
      },
      "source": [
        "**Droping Categorical features**"
      ]
    },
    {
      "cell_type": "code",
      "execution_count": 317,
      "metadata": {
        "colab": {
          "base_uri": "https://localhost:8080/",
          "height": 572
        },
        "id": "jwAlRCsywxB_",
        "outputId": "b792f301-c9dd-4057-f89a-ce2b407e394b"
      },
      "outputs": [
        {
          "data": {
            "text/html": [
              "<div>\n",
              "<style scoped>\n",
              "    .dataframe tbody tr th:only-of-type {\n",
              "        vertical-align: middle;\n",
              "    }\n",
              "\n",
              "    .dataframe tbody tr th {\n",
              "        vertical-align: top;\n",
              "    }\n",
              "\n",
              "    .dataframe thead th {\n",
              "        text-align: right;\n",
              "    }\n",
              "</style>\n",
              "<table border=\"1\" class=\"dataframe\">\n",
              "  <thead>\n",
              "    <tr style=\"text-align: right;\">\n",
              "      <th></th>\n",
              "      <th>age</th>\n",
              "      <th>resting bp s</th>\n",
              "      <th>cholesterol</th>\n",
              "      <th>fasting blood sugar</th>\n",
              "      <th>resting ecg</th>\n",
              "      <th>max heart rate</th>\n",
              "      <th>exercise angina</th>\n",
              "      <th>oldpeak</th>\n",
              "      <th>target</th>\n",
              "    </tr>\n",
              "  </thead>\n",
              "  <tbody>\n",
              "    <tr>\n",
              "      <th>0</th>\n",
              "      <td>40</td>\n",
              "      <td>140</td>\n",
              "      <td>289</td>\n",
              "      <td>0</td>\n",
              "      <td>0</td>\n",
              "      <td>172</td>\n",
              "      <td>0</td>\n",
              "      <td>0.0</td>\n",
              "      <td>0</td>\n",
              "    </tr>\n",
              "    <tr>\n",
              "      <th>1</th>\n",
              "      <td>49</td>\n",
              "      <td>160</td>\n",
              "      <td>180</td>\n",
              "      <td>0</td>\n",
              "      <td>0</td>\n",
              "      <td>156</td>\n",
              "      <td>0</td>\n",
              "      <td>1.0</td>\n",
              "      <td>1</td>\n",
              "    </tr>\n",
              "    <tr>\n",
              "      <th>2</th>\n",
              "      <td>37</td>\n",
              "      <td>130</td>\n",
              "      <td>283</td>\n",
              "      <td>0</td>\n",
              "      <td>1</td>\n",
              "      <td>98</td>\n",
              "      <td>0</td>\n",
              "      <td>0.0</td>\n",
              "      <td>0</td>\n",
              "    </tr>\n",
              "    <tr>\n",
              "      <th>3</th>\n",
              "      <td>48</td>\n",
              "      <td>138</td>\n",
              "      <td>214</td>\n",
              "      <td>0</td>\n",
              "      <td>0</td>\n",
              "      <td>108</td>\n",
              "      <td>1</td>\n",
              "      <td>1.5</td>\n",
              "      <td>1</td>\n",
              "    </tr>\n",
              "    <tr>\n",
              "      <th>4</th>\n",
              "      <td>54</td>\n",
              "      <td>150</td>\n",
              "      <td>195</td>\n",
              "      <td>0</td>\n",
              "      <td>0</td>\n",
              "      <td>122</td>\n",
              "      <td>0</td>\n",
              "      <td>0.0</td>\n",
              "      <td>0</td>\n",
              "    </tr>\n",
              "    <tr>\n",
              "      <th>...</th>\n",
              "      <td>...</td>\n",
              "      <td>...</td>\n",
              "      <td>...</td>\n",
              "      <td>...</td>\n",
              "      <td>...</td>\n",
              "      <td>...</td>\n",
              "      <td>...</td>\n",
              "      <td>...</td>\n",
              "      <td>...</td>\n",
              "    </tr>\n",
              "    <tr>\n",
              "      <th>1185</th>\n",
              "      <td>45</td>\n",
              "      <td>110</td>\n",
              "      <td>264</td>\n",
              "      <td>0</td>\n",
              "      <td>0</td>\n",
              "      <td>132</td>\n",
              "      <td>0</td>\n",
              "      <td>1.2</td>\n",
              "      <td>1</td>\n",
              "    </tr>\n",
              "    <tr>\n",
              "      <th>1186</th>\n",
              "      <td>68</td>\n",
              "      <td>144</td>\n",
              "      <td>193</td>\n",
              "      <td>1</td>\n",
              "      <td>0</td>\n",
              "      <td>141</td>\n",
              "      <td>0</td>\n",
              "      <td>3.4</td>\n",
              "      <td>1</td>\n",
              "    </tr>\n",
              "    <tr>\n",
              "      <th>1187</th>\n",
              "      <td>57</td>\n",
              "      <td>130</td>\n",
              "      <td>131</td>\n",
              "      <td>0</td>\n",
              "      <td>0</td>\n",
              "      <td>115</td>\n",
              "      <td>1</td>\n",
              "      <td>1.2</td>\n",
              "      <td>1</td>\n",
              "    </tr>\n",
              "    <tr>\n",
              "      <th>1188</th>\n",
              "      <td>57</td>\n",
              "      <td>130</td>\n",
              "      <td>236</td>\n",
              "      <td>0</td>\n",
              "      <td>2</td>\n",
              "      <td>174</td>\n",
              "      <td>0</td>\n",
              "      <td>0.0</td>\n",
              "      <td>1</td>\n",
              "    </tr>\n",
              "    <tr>\n",
              "      <th>1189</th>\n",
              "      <td>38</td>\n",
              "      <td>138</td>\n",
              "      <td>175</td>\n",
              "      <td>0</td>\n",
              "      <td>0</td>\n",
              "      <td>173</td>\n",
              "      <td>0</td>\n",
              "      <td>0.0</td>\n",
              "      <td>0</td>\n",
              "    </tr>\n",
              "  </tbody>\n",
              "</table>\n",
              "<p>1190 rows × 9 columns</p>\n",
              "</div>"
            ],
            "text/plain": [
              "      age  resting bp s  cholesterol  fasting blood sugar  resting ecg  \\\n",
              "0      40           140          289                    0            0   \n",
              "1      49           160          180                    0            0   \n",
              "2      37           130          283                    0            1   \n",
              "3      48           138          214                    0            0   \n",
              "4      54           150          195                    0            0   \n",
              "...   ...           ...          ...                  ...          ...   \n",
              "1185   45           110          264                    0            0   \n",
              "1186   68           144          193                    1            0   \n",
              "1187   57           130          131                    0            0   \n",
              "1188   57           130          236                    0            2   \n",
              "1189   38           138          175                    0            0   \n",
              "\n",
              "      max heart rate  exercise angina  oldpeak  target  \n",
              "0                172                0      0.0       0  \n",
              "1                156                0      1.0       1  \n",
              "2                 98                0      0.0       0  \n",
              "3                108                1      1.5       1  \n",
              "4                122                0      0.0       0  \n",
              "...              ...              ...      ...     ...  \n",
              "1185             132                0      1.2       1  \n",
              "1186             141                0      3.4       1  \n",
              "1187             115                1      1.2       1  \n",
              "1188             174                0      0.0       1  \n",
              "1189             173                0      0.0       0  \n",
              "\n",
              "[1190 rows x 9 columns]"
            ]
          },
          "execution_count": 317,
          "metadata": {},
          "output_type": "execute_result"
        }
      ],
      "source": [
        "dataset.drop(\"chest pain type\", axis=1, inplace=True)\n",
        "dataset.drop(\"sex\", axis=1, inplace=True)\n",
        "dataset.drop(\"ST slope\", axis=1, inplace=True)\n",
        "\n",
        "newDataset = dataset\n",
        "\n",
        "newDataset"
      ]
    },
    {
      "cell_type": "code",
      "execution_count": 318,
      "metadata": {
        "id": "fzzhHXF88iCF"
      },
      "outputs": [
        {
          "data": {
            "text/html": [
              "<div>\n",
              "<style scoped>\n",
              "    .dataframe tbody tr th:only-of-type {\n",
              "        vertical-align: middle;\n",
              "    }\n",
              "\n",
              "    .dataframe tbody tr th {\n",
              "        vertical-align: top;\n",
              "    }\n",
              "\n",
              "    .dataframe thead th {\n",
              "        text-align: right;\n",
              "    }\n",
              "</style>\n",
              "<table border=\"1\" class=\"dataframe\">\n",
              "  <thead>\n",
              "    <tr style=\"text-align: right;\">\n",
              "      <th></th>\n",
              "      <th>age</th>\n",
              "      <th>resting bp s</th>\n",
              "      <th>cholesterol</th>\n",
              "      <th>fasting blood sugar</th>\n",
              "      <th>resting ecg</th>\n",
              "      <th>max heart rate</th>\n",
              "      <th>exercise angina</th>\n",
              "      <th>oldpeak</th>\n",
              "      <th>danger</th>\n",
              "    </tr>\n",
              "  </thead>\n",
              "  <tbody>\n",
              "    <tr>\n",
              "      <th>0</th>\n",
              "      <td>40</td>\n",
              "      <td>140</td>\n",
              "      <td>289</td>\n",
              "      <td>0</td>\n",
              "      <td>0</td>\n",
              "      <td>172</td>\n",
              "      <td>0</td>\n",
              "      <td>0.0</td>\n",
              "      <td>0</td>\n",
              "    </tr>\n",
              "    <tr>\n",
              "      <th>1</th>\n",
              "      <td>49</td>\n",
              "      <td>160</td>\n",
              "      <td>180</td>\n",
              "      <td>0</td>\n",
              "      <td>0</td>\n",
              "      <td>156</td>\n",
              "      <td>0</td>\n",
              "      <td>1.0</td>\n",
              "      <td>1</td>\n",
              "    </tr>\n",
              "    <tr>\n",
              "      <th>2</th>\n",
              "      <td>37</td>\n",
              "      <td>130</td>\n",
              "      <td>283</td>\n",
              "      <td>0</td>\n",
              "      <td>1</td>\n",
              "      <td>98</td>\n",
              "      <td>0</td>\n",
              "      <td>0.0</td>\n",
              "      <td>0</td>\n",
              "    </tr>\n",
              "    <tr>\n",
              "      <th>3</th>\n",
              "      <td>48</td>\n",
              "      <td>138</td>\n",
              "      <td>214</td>\n",
              "      <td>0</td>\n",
              "      <td>0</td>\n",
              "      <td>108</td>\n",
              "      <td>1</td>\n",
              "      <td>1.5</td>\n",
              "      <td>1</td>\n",
              "    </tr>\n",
              "    <tr>\n",
              "      <th>4</th>\n",
              "      <td>54</td>\n",
              "      <td>150</td>\n",
              "      <td>195</td>\n",
              "      <td>0</td>\n",
              "      <td>0</td>\n",
              "      <td>122</td>\n",
              "      <td>0</td>\n",
              "      <td>0.0</td>\n",
              "      <td>0</td>\n",
              "    </tr>\n",
              "    <tr>\n",
              "      <th>...</th>\n",
              "      <td>...</td>\n",
              "      <td>...</td>\n",
              "      <td>...</td>\n",
              "      <td>...</td>\n",
              "      <td>...</td>\n",
              "      <td>...</td>\n",
              "      <td>...</td>\n",
              "      <td>...</td>\n",
              "      <td>...</td>\n",
              "    </tr>\n",
              "    <tr>\n",
              "      <th>1185</th>\n",
              "      <td>45</td>\n",
              "      <td>110</td>\n",
              "      <td>264</td>\n",
              "      <td>0</td>\n",
              "      <td>0</td>\n",
              "      <td>132</td>\n",
              "      <td>0</td>\n",
              "      <td>1.2</td>\n",
              "      <td>1</td>\n",
              "    </tr>\n",
              "    <tr>\n",
              "      <th>1186</th>\n",
              "      <td>68</td>\n",
              "      <td>144</td>\n",
              "      <td>193</td>\n",
              "      <td>1</td>\n",
              "      <td>0</td>\n",
              "      <td>141</td>\n",
              "      <td>0</td>\n",
              "      <td>3.4</td>\n",
              "      <td>1</td>\n",
              "    </tr>\n",
              "    <tr>\n",
              "      <th>1187</th>\n",
              "      <td>57</td>\n",
              "      <td>130</td>\n",
              "      <td>131</td>\n",
              "      <td>0</td>\n",
              "      <td>0</td>\n",
              "      <td>115</td>\n",
              "      <td>1</td>\n",
              "      <td>1.2</td>\n",
              "      <td>1</td>\n",
              "    </tr>\n",
              "    <tr>\n",
              "      <th>1188</th>\n",
              "      <td>57</td>\n",
              "      <td>130</td>\n",
              "      <td>236</td>\n",
              "      <td>0</td>\n",
              "      <td>2</td>\n",
              "      <td>174</td>\n",
              "      <td>0</td>\n",
              "      <td>0.0</td>\n",
              "      <td>1</td>\n",
              "    </tr>\n",
              "    <tr>\n",
              "      <th>1189</th>\n",
              "      <td>38</td>\n",
              "      <td>138</td>\n",
              "      <td>175</td>\n",
              "      <td>0</td>\n",
              "      <td>0</td>\n",
              "      <td>173</td>\n",
              "      <td>0</td>\n",
              "      <td>0.0</td>\n",
              "      <td>0</td>\n",
              "    </tr>\n",
              "  </tbody>\n",
              "</table>\n",
              "<p>1190 rows × 9 columns</p>\n",
              "</div>"
            ],
            "text/plain": [
              "      age  resting bp s  cholesterol  fasting blood sugar  resting ecg  \\\n",
              "0      40           140          289                    0            0   \n",
              "1      49           160          180                    0            0   \n",
              "2      37           130          283                    0            1   \n",
              "3      48           138          214                    0            0   \n",
              "4      54           150          195                    0            0   \n",
              "...   ...           ...          ...                  ...          ...   \n",
              "1185   45           110          264                    0            0   \n",
              "1186   68           144          193                    1            0   \n",
              "1187   57           130          131                    0            0   \n",
              "1188   57           130          236                    0            2   \n",
              "1189   38           138          175                    0            0   \n",
              "\n",
              "      max heart rate  exercise angina  oldpeak  danger  \n",
              "0                172                0      0.0       0  \n",
              "1                156                0      1.0       1  \n",
              "2                 98                0      0.0       0  \n",
              "3                108                1      1.5       1  \n",
              "4                122                0      0.0       0  \n",
              "...              ...              ...      ...     ...  \n",
              "1185             132                0      1.2       1  \n",
              "1186             141                0      3.4       1  \n",
              "1187             115                1      1.2       1  \n",
              "1188             174                0      0.0       1  \n",
              "1189             173                0      0.0       0  \n",
              "\n",
              "[1190 rows x 9 columns]"
            ]
          },
          "execution_count": 318,
          "metadata": {},
          "output_type": "execute_result"
        }
      ],
      "source": [
        "dataset.rename( columns = { 'target' : 'danger' } , inplace= True )\n",
        "dataset"
      ]
    },
    {
      "cell_type": "code",
      "execution_count": 319,
      "metadata": {
        "colab": {
          "base_uri": "https://localhost:8080/",
          "height": 344
        },
        "id": "hT0y8HHg_WW4",
        "outputId": "f275ea4f-8d5e-4d44-baa9-4f9d92ccef99"
      },
      "outputs": [
        {
          "data": {
            "text/html": [
              "<div>\n",
              "<style scoped>\n",
              "    .dataframe tbody tr th:only-of-type {\n",
              "        vertical-align: middle;\n",
              "    }\n",
              "\n",
              "    .dataframe tbody tr th {\n",
              "        vertical-align: top;\n",
              "    }\n",
              "\n",
              "    .dataframe thead th {\n",
              "        text-align: right;\n",
              "    }\n",
              "</style>\n",
              "<table border=\"1\" class=\"dataframe\">\n",
              "  <thead>\n",
              "    <tr style=\"text-align: right;\">\n",
              "      <th></th>\n",
              "      <th>age</th>\n",
              "      <th>resting bp s</th>\n",
              "      <th>cholesterol</th>\n",
              "      <th>fasting blood sugar</th>\n",
              "      <th>resting ecg</th>\n",
              "      <th>max heart rate</th>\n",
              "      <th>exercise angina</th>\n",
              "      <th>oldpeak</th>\n",
              "      <th>danger</th>\n",
              "    </tr>\n",
              "  </thead>\n",
              "  <tbody>\n",
              "    <tr>\n",
              "      <th>count</th>\n",
              "      <td>1190.000000</td>\n",
              "      <td>1190.000000</td>\n",
              "      <td>1190.000000</td>\n",
              "      <td>1190.000000</td>\n",
              "      <td>1190.000000</td>\n",
              "      <td>1190.000000</td>\n",
              "      <td>1190.000000</td>\n",
              "      <td>1190.000000</td>\n",
              "      <td>1190.000000</td>\n",
              "    </tr>\n",
              "    <tr>\n",
              "      <th>mean</th>\n",
              "      <td>53.720168</td>\n",
              "      <td>132.153782</td>\n",
              "      <td>210.363866</td>\n",
              "      <td>0.213445</td>\n",
              "      <td>0.698319</td>\n",
              "      <td>139.732773</td>\n",
              "      <td>0.387395</td>\n",
              "      <td>0.922773</td>\n",
              "      <td>0.528571</td>\n",
              "    </tr>\n",
              "    <tr>\n",
              "      <th>std</th>\n",
              "      <td>9.358203</td>\n",
              "      <td>18.368823</td>\n",
              "      <td>101.420489</td>\n",
              "      <td>0.409912</td>\n",
              "      <td>0.870359</td>\n",
              "      <td>25.517636</td>\n",
              "      <td>0.487360</td>\n",
              "      <td>1.086337</td>\n",
              "      <td>0.499393</td>\n",
              "    </tr>\n",
              "    <tr>\n",
              "      <th>min</th>\n",
              "      <td>28.000000</td>\n",
              "      <td>0.000000</td>\n",
              "      <td>0.000000</td>\n",
              "      <td>0.000000</td>\n",
              "      <td>0.000000</td>\n",
              "      <td>60.000000</td>\n",
              "      <td>0.000000</td>\n",
              "      <td>-2.600000</td>\n",
              "      <td>0.000000</td>\n",
              "    </tr>\n",
              "    <tr>\n",
              "      <th>25%</th>\n",
              "      <td>47.000000</td>\n",
              "      <td>120.000000</td>\n",
              "      <td>188.000000</td>\n",
              "      <td>0.000000</td>\n",
              "      <td>0.000000</td>\n",
              "      <td>121.000000</td>\n",
              "      <td>0.000000</td>\n",
              "      <td>0.000000</td>\n",
              "      <td>0.000000</td>\n",
              "    </tr>\n",
              "    <tr>\n",
              "      <th>50%</th>\n",
              "      <td>54.000000</td>\n",
              "      <td>130.000000</td>\n",
              "      <td>229.000000</td>\n",
              "      <td>0.000000</td>\n",
              "      <td>0.000000</td>\n",
              "      <td>140.500000</td>\n",
              "      <td>0.000000</td>\n",
              "      <td>0.600000</td>\n",
              "      <td>1.000000</td>\n",
              "    </tr>\n",
              "    <tr>\n",
              "      <th>75%</th>\n",
              "      <td>60.000000</td>\n",
              "      <td>140.000000</td>\n",
              "      <td>269.750000</td>\n",
              "      <td>0.000000</td>\n",
              "      <td>2.000000</td>\n",
              "      <td>160.000000</td>\n",
              "      <td>1.000000</td>\n",
              "      <td>1.600000</td>\n",
              "      <td>1.000000</td>\n",
              "    </tr>\n",
              "    <tr>\n",
              "      <th>max</th>\n",
              "      <td>77.000000</td>\n",
              "      <td>200.000000</td>\n",
              "      <td>603.000000</td>\n",
              "      <td>1.000000</td>\n",
              "      <td>2.000000</td>\n",
              "      <td>202.000000</td>\n",
              "      <td>1.000000</td>\n",
              "      <td>6.200000</td>\n",
              "      <td>1.000000</td>\n",
              "    </tr>\n",
              "  </tbody>\n",
              "</table>\n",
              "</div>"
            ],
            "text/plain": [
              "               age  resting bp s  cholesterol  fasting blood sugar  \\\n",
              "count  1190.000000   1190.000000  1190.000000          1190.000000   \n",
              "mean     53.720168    132.153782   210.363866             0.213445   \n",
              "std       9.358203     18.368823   101.420489             0.409912   \n",
              "min      28.000000      0.000000     0.000000             0.000000   \n",
              "25%      47.000000    120.000000   188.000000             0.000000   \n",
              "50%      54.000000    130.000000   229.000000             0.000000   \n",
              "75%      60.000000    140.000000   269.750000             0.000000   \n",
              "max      77.000000    200.000000   603.000000             1.000000   \n",
              "\n",
              "       resting ecg  max heart rate  exercise angina      oldpeak       danger  \n",
              "count  1190.000000     1190.000000      1190.000000  1190.000000  1190.000000  \n",
              "mean      0.698319      139.732773         0.387395     0.922773     0.528571  \n",
              "std       0.870359       25.517636         0.487360     1.086337     0.499393  \n",
              "min       0.000000       60.000000         0.000000    -2.600000     0.000000  \n",
              "25%       0.000000      121.000000         0.000000     0.000000     0.000000  \n",
              "50%       0.000000      140.500000         0.000000     0.600000     1.000000  \n",
              "75%       2.000000      160.000000         1.000000     1.600000     1.000000  \n",
              "max       2.000000      202.000000         1.000000     6.200000     1.000000  "
            ]
          },
          "execution_count": 319,
          "metadata": {},
          "output_type": "execute_result"
        }
      ],
      "source": [
        "dataset.describe()"
      ]
    },
    {
      "cell_type": "code",
      "execution_count": 320,
      "metadata": {
        "colab": {
          "base_uri": "https://localhost:8080/"
        },
        "id": "Bza2L-wZ_u3e",
        "outputId": "1f3edafc-f270-48f5-a90a-188aec3917fe"
      },
      "outputs": [
        {
          "name": "stdout",
          "output_type": "stream",
          "text": [
            "Resting Bpm corrected \n",
            "\n"
          ]
        },
        {
          "data": {
            "text/plain": [
              "315      80\n",
              "228      92\n",
              "834      94\n",
              "694      94\n",
              "1018     94\n",
              "       ... \n",
              "242     200\n",
              "734     200\n",
              "366     200\n",
              "1013    200\n",
              "400     200\n",
              "Name: resting bpm, Length: 1189, dtype: int64"
            ]
          },
          "execution_count": 320,
          "metadata": {},
          "output_type": "execute_result"
        }
      ],
      "source": [
        "dataset.rename( columns = { \"resting bp s\" : \"resting bpm\" } , inplace = True )\n",
        "\n",
        "dataset.drop( dataset[ dataset[\"resting bpm\"] == 0 ].index , inplace = True ) # cuz they are already dead\n",
        "print(\"Resting Bpm corrected \\n\")\n",
        "dataset[\"resting bpm\"].sort_values()"
      ]
    },
    {
      "cell_type": "code",
      "execution_count": 321,
      "metadata": {},
      "outputs": [
        {
          "data": {
            "text/html": [
              "<div>\n",
              "<style scoped>\n",
              "    .dataframe tbody tr th:only-of-type {\n",
              "        vertical-align: middle;\n",
              "    }\n",
              "\n",
              "    .dataframe tbody tr th {\n",
              "        vertical-align: top;\n",
              "    }\n",
              "\n",
              "    .dataframe thead th {\n",
              "        text-align: right;\n",
              "    }\n",
              "</style>\n",
              "<table border=\"1\" class=\"dataframe\">\n",
              "  <thead>\n",
              "    <tr style=\"text-align: right;\">\n",
              "      <th></th>\n",
              "      <th>age</th>\n",
              "      <th>resting bpm</th>\n",
              "      <th>cholesterol</th>\n",
              "      <th>fasting blood sugar</th>\n",
              "      <th>resting ecg</th>\n",
              "      <th>max heart rate</th>\n",
              "      <th>exercise angina</th>\n",
              "      <th>oldpeak</th>\n",
              "      <th>danger</th>\n",
              "    </tr>\n",
              "  </thead>\n",
              "  <tbody>\n",
              "    <tr>\n",
              "      <th>count</th>\n",
              "      <td>1189.000000</td>\n",
              "      <td>1189.000000</td>\n",
              "      <td>1189.000000</td>\n",
              "      <td>1189.000000</td>\n",
              "      <td>1189.000000</td>\n",
              "      <td>1189.000000</td>\n",
              "      <td>1189.000000</td>\n",
              "      <td>1189.000000</td>\n",
              "      <td>1189.000000</td>\n",
              "    </tr>\n",
              "    <tr>\n",
              "      <th>mean</th>\n",
              "      <td>53.719092</td>\n",
              "      <td>132.264929</td>\n",
              "      <td>210.540791</td>\n",
              "      <td>0.213625</td>\n",
              "      <td>0.698907</td>\n",
              "      <td>139.719933</td>\n",
              "      <td>0.387721</td>\n",
              "      <td>0.922288</td>\n",
              "      <td>0.528175</td>\n",
              "    </tr>\n",
              "    <tr>\n",
              "      <th>std</th>\n",
              "      <td>9.362067</td>\n",
              "      <td>17.971769</td>\n",
              "      <td>101.279280</td>\n",
              "      <td>0.410037</td>\n",
              "      <td>0.870489</td>\n",
              "      <td>25.524527</td>\n",
              "      <td>0.487435</td>\n",
              "      <td>1.086665</td>\n",
              "      <td>0.499416</td>\n",
              "    </tr>\n",
              "    <tr>\n",
              "      <th>min</th>\n",
              "      <td>28.000000</td>\n",
              "      <td>80.000000</td>\n",
              "      <td>0.000000</td>\n",
              "      <td>0.000000</td>\n",
              "      <td>0.000000</td>\n",
              "      <td>60.000000</td>\n",
              "      <td>0.000000</td>\n",
              "      <td>-2.600000</td>\n",
              "      <td>0.000000</td>\n",
              "    </tr>\n",
              "    <tr>\n",
              "      <th>25%</th>\n",
              "      <td>47.000000</td>\n",
              "      <td>120.000000</td>\n",
              "      <td>188.000000</td>\n",
              "      <td>0.000000</td>\n",
              "      <td>0.000000</td>\n",
              "      <td>121.000000</td>\n",
              "      <td>0.000000</td>\n",
              "      <td>0.000000</td>\n",
              "      <td>0.000000</td>\n",
              "    </tr>\n",
              "    <tr>\n",
              "      <th>50%</th>\n",
              "      <td>54.000000</td>\n",
              "      <td>130.000000</td>\n",
              "      <td>229.000000</td>\n",
              "      <td>0.000000</td>\n",
              "      <td>0.000000</td>\n",
              "      <td>140.000000</td>\n",
              "      <td>0.000000</td>\n",
              "      <td>0.600000</td>\n",
              "      <td>1.000000</td>\n",
              "    </tr>\n",
              "    <tr>\n",
              "      <th>75%</th>\n",
              "      <td>60.000000</td>\n",
              "      <td>140.000000</td>\n",
              "      <td>270.000000</td>\n",
              "      <td>0.000000</td>\n",
              "      <td>2.000000</td>\n",
              "      <td>160.000000</td>\n",
              "      <td>1.000000</td>\n",
              "      <td>1.600000</td>\n",
              "      <td>1.000000</td>\n",
              "    </tr>\n",
              "    <tr>\n",
              "      <th>max</th>\n",
              "      <td>77.000000</td>\n",
              "      <td>200.000000</td>\n",
              "      <td>603.000000</td>\n",
              "      <td>1.000000</td>\n",
              "      <td>2.000000</td>\n",
              "      <td>202.000000</td>\n",
              "      <td>1.000000</td>\n",
              "      <td>6.200000</td>\n",
              "      <td>1.000000</td>\n",
              "    </tr>\n",
              "  </tbody>\n",
              "</table>\n",
              "</div>"
            ],
            "text/plain": [
              "               age  resting bpm  cholesterol  fasting blood sugar  \\\n",
              "count  1189.000000  1189.000000  1189.000000          1189.000000   \n",
              "mean     53.719092   132.264929   210.540791             0.213625   \n",
              "std       9.362067    17.971769   101.279280             0.410037   \n",
              "min      28.000000    80.000000     0.000000             0.000000   \n",
              "25%      47.000000   120.000000   188.000000             0.000000   \n",
              "50%      54.000000   130.000000   229.000000             0.000000   \n",
              "75%      60.000000   140.000000   270.000000             0.000000   \n",
              "max      77.000000   200.000000   603.000000             1.000000   \n",
              "\n",
              "       resting ecg  max heart rate  exercise angina      oldpeak       danger  \n",
              "count  1189.000000     1189.000000      1189.000000  1189.000000  1189.000000  \n",
              "mean      0.698907      139.719933         0.387721     0.922288     0.528175  \n",
              "std       0.870489       25.524527         0.487435     1.086665     0.499416  \n",
              "min       0.000000       60.000000         0.000000    -2.600000     0.000000  \n",
              "25%       0.000000      121.000000         0.000000     0.000000     0.000000  \n",
              "50%       0.000000      140.000000         0.000000     0.600000     1.000000  \n",
              "75%       2.000000      160.000000         1.000000     1.600000     1.000000  \n",
              "max       2.000000      202.000000         1.000000     6.200000     1.000000  "
            ]
          },
          "execution_count": 321,
          "metadata": {},
          "output_type": "execute_result"
        }
      ],
      "source": [
        "dataset.describe()"
      ]
    },
    {
      "cell_type": "code",
      "execution_count": 322,
      "metadata": {
        "colab": {
          "base_uri": "https://localhost:8080/",
          "height": 1000
        },
        "id": "eXXD364CGZAZ",
        "outputId": "d5d51731-6b8f-4755-ec89-80859fc2f43a"
      },
      "outputs": [
        {
          "data": {
            "text/plain": [
              "array([[<AxesSubplot: title={'center': 'age'}>,\n",
              "        <AxesSubplot: title={'center': 'resting bpm'}>,\n",
              "        <AxesSubplot: title={'center': 'cholesterol'}>],\n",
              "       [<AxesSubplot: title={'center': 'fasting blood sugar'}>,\n",
              "        <AxesSubplot: title={'center': 'resting ecg'}>,\n",
              "        <AxesSubplot: title={'center': 'max heart rate'}>],\n",
              "       [<AxesSubplot: title={'center': 'exercise angina'}>,\n",
              "        <AxesSubplot: title={'center': 'oldpeak'}>,\n",
              "        <AxesSubplot: title={'center': 'danger'}>]], dtype=object)"
            ]
          },
          "execution_count": 322,
          "metadata": {},
          "output_type": "execute_result"
        },
        {
          "data": {
            "image/png": "[encoded data removed]",
            "text/plain": [
              "<Figure size 3000x3000 with 9 Axes>"
            ]
          },
          "metadata": {},
          "output_type": "display_data"
        }
      ],
      "source": [
        "dataset.hist( bins = 20 , figsize = (30,30))"
      ]
    },
    {
      "cell_type": "code",
      "execution_count": 323,
      "metadata": {
        "colab": {
          "base_uri": "https://localhost:8080/",
          "height": 283
        },
        "id": "iCYcJ6EkGzSg",
        "outputId": "d30ab405-cde6-4e3c-b7d9-72ff69066737"
      },
      "outputs": [
        {
          "data": {
            "text/plain": [
              "<AxesSubplot: >"
            ]
          },
          "execution_count": 323,
          "metadata": {},
          "output_type": "execute_result"
        },
        {
          "data": {
            "image/png": "[encoded data removed]",
            "text/plain": [
              "<Figure size 640x480 with 1 Axes>"
            ]
          },
          "metadata": {},
          "output_type": "display_data"
        }
      ],
      "source": [
        "dataset[\"cholesterol\"].hist(bins=50)"
      ]
    },
    {
      "cell_type": "code",
      "execution_count": 324,
      "metadata": {
        "id": "453PK7ZYIODa"
      },
      "outputs": [],
      "source": [
        "dataset.drop( dataset[ dataset['cholesterol'] == 0 ].index , inplace = True )"
      ]
    },
    {
      "cell_type": "code",
      "execution_count": 325,
      "metadata": {
        "colab": {
          "base_uri": "https://localhost:8080/"
        },
        "id": "OJ_CFPwiGkVp",
        "outputId": "9776b08b-fce1-4503-dcbf-a9f75b4652fa"
      },
      "outputs": [
        {
          "name": "stdout",
          "output_type": "stream",
          "text": [
            "<class 'pandas.core.frame.DataFrame'>\n",
            "Int64Index: 1018 entries, 0 to 1189\n",
            "Data columns (total 9 columns):\n",
            " #   Column               Non-Null Count  Dtype  \n",
            "---  ------               --------------  -----  \n",
            " 0   age                  1018 non-null   int64  \n",
            " 1   resting bpm          1018 non-null   int64  \n",
            " 2   cholesterol          1018 non-null   int64  \n",
            " 3   fasting blood sugar  1018 non-null   int64  \n",
            " 4   resting ecg          1018 non-null   int64  \n",
            " 5   max heart rate       1018 non-null   int64  \n",
            " 6   exercise angina      1018 non-null   int64  \n",
            " 7   oldpeak              1018 non-null   float64\n",
            " 8   danger               1018 non-null   int64  \n",
            "dtypes: float64(1), int64(8)\n",
            "memory usage: 79.5 KB\n"
          ]
        }
      ],
      "source": [
        "dataset.info()"
      ]
    },
    {
      "cell_type": "code",
      "execution_count": 326,
      "metadata": {
        "colab": {
          "base_uri": "https://localhost:8080/",
          "height": 789
        },
        "id": "rEfqy-EdKkSM",
        "outputId": "0460d263-7b22-4b60-8a49-a4b3ccde3657"
      },
      "outputs": [
        {
          "data": {
            "text/plain": [
              "array([[<AxesSubplot: title={'center': 'age'}>,\n",
              "        <AxesSubplot: title={'center': 'resting bpm'}>,\n",
              "        <AxesSubplot: title={'center': 'cholesterol'}>],\n",
              "       [<AxesSubplot: title={'center': 'fasting blood sugar'}>,\n",
              "        <AxesSubplot: title={'center': 'resting ecg'}>,\n",
              "        <AxesSubplot: title={'center': 'max heart rate'}>],\n",
              "       [<AxesSubplot: title={'center': 'exercise angina'}>,\n",
              "        <AxesSubplot: title={'center': 'oldpeak'}>,\n",
              "        <AxesSubplot: title={'center': 'danger'}>]], dtype=object)"
            ]
          },
          "execution_count": 326,
          "metadata": {},
          "output_type": "execute_result"
        },
        {
          "data": {
            "image/png": "[encoded data removed]",
            "text/plain": [
              "<Figure size 1600x1000 with 9 Axes>"
            ]
          },
          "metadata": {},
          "output_type": "display_data"
        }
      ],
      "source": [
        "dataset.hist( bins = 20 , figsize=(16,10))"
      ]
    },
    {
      "cell_type": "code",
      "execution_count": 327,
      "metadata": {
        "id": "L1ZXY-z7M5r4"
      },
      "outputs": [],
      "source": [
        "\n",
        "binary = ['sex' , 'fasting blood sugar' , 'exercise angina' ]\n",
        "numerical = ['age' , 'resting bpm' , 'cholesterol', 'max heart rate', 'oldpeak' ]"
      ]
    },
    {
      "cell_type": "code",
      "execution_count": 328,
      "metadata": {
        "colab": {
          "base_uri": "https://localhost:8080/",
          "height": 572
        },
        "id": "5mtFwrTNWDRw",
        "outputId": "c4f97186-f1c7-43f0-e1e2-1fb8b75d148c"
      },
      "outputs": [
        {
          "data": {
            "text/html": [
              "<div>\n",
              "<style scoped>\n",
              "    .dataframe tbody tr th:only-of-type {\n",
              "        vertical-align: middle;\n",
              "    }\n",
              "\n",
              "    .dataframe tbody tr th {\n",
              "        vertical-align: top;\n",
              "    }\n",
              "\n",
              "    .dataframe thead th {\n",
              "        text-align: right;\n",
              "    }\n",
              "</style>\n",
              "<table border=\"1\" class=\"dataframe\">\n",
              "  <thead>\n",
              "    <tr style=\"text-align: right;\">\n",
              "      <th></th>\n",
              "      <th>age</th>\n",
              "      <th>resting bpm</th>\n",
              "      <th>cholesterol</th>\n",
              "      <th>fasting blood sugar</th>\n",
              "      <th>resting ecg</th>\n",
              "      <th>max heart rate</th>\n",
              "      <th>exercise angina</th>\n",
              "      <th>oldpeak</th>\n",
              "      <th>danger</th>\n",
              "    </tr>\n",
              "  </thead>\n",
              "  <tbody>\n",
              "    <tr>\n",
              "      <th>0</th>\n",
              "      <td>40</td>\n",
              "      <td>140</td>\n",
              "      <td>289</td>\n",
              "      <td>0</td>\n",
              "      <td>0</td>\n",
              "      <td>172</td>\n",
              "      <td>0</td>\n",
              "      <td>0.0</td>\n",
              "      <td>0</td>\n",
              "    </tr>\n",
              "    <tr>\n",
              "      <th>1</th>\n",
              "      <td>49</td>\n",
              "      <td>160</td>\n",
              "      <td>180</td>\n",
              "      <td>0</td>\n",
              "      <td>0</td>\n",
              "      <td>156</td>\n",
              "      <td>0</td>\n",
              "      <td>1.0</td>\n",
              "      <td>1</td>\n",
              "    </tr>\n",
              "    <tr>\n",
              "      <th>2</th>\n",
              "      <td>37</td>\n",
              "      <td>130</td>\n",
              "      <td>283</td>\n",
              "      <td>0</td>\n",
              "      <td>1</td>\n",
              "      <td>98</td>\n",
              "      <td>0</td>\n",
              "      <td>0.0</td>\n",
              "      <td>0</td>\n",
              "    </tr>\n",
              "    <tr>\n",
              "      <th>3</th>\n",
              "      <td>48</td>\n",
              "      <td>138</td>\n",
              "      <td>214</td>\n",
              "      <td>0</td>\n",
              "      <td>0</td>\n",
              "      <td>108</td>\n",
              "      <td>1</td>\n",
              "      <td>1.5</td>\n",
              "      <td>1</td>\n",
              "    </tr>\n",
              "    <tr>\n",
              "      <th>4</th>\n",
              "      <td>54</td>\n",
              "      <td>150</td>\n",
              "      <td>195</td>\n",
              "      <td>0</td>\n",
              "      <td>0</td>\n",
              "      <td>122</td>\n",
              "      <td>0</td>\n",
              "      <td>0.0</td>\n",
              "      <td>0</td>\n",
              "    </tr>\n",
              "    <tr>\n",
              "      <th>...</th>\n",
              "      <td>...</td>\n",
              "      <td>...</td>\n",
              "      <td>...</td>\n",
              "      <td>...</td>\n",
              "      <td>...</td>\n",
              "      <td>...</td>\n",
              "      <td>...</td>\n",
              "      <td>...</td>\n",
              "      <td>...</td>\n",
              "    </tr>\n",
              "    <tr>\n",
              "      <th>1185</th>\n",
              "      <td>45</td>\n",
              "      <td>110</td>\n",
              "      <td>264</td>\n",
              "      <td>0</td>\n",
              "      <td>0</td>\n",
              "      <td>132</td>\n",
              "      <td>0</td>\n",
              "      <td>1.2</td>\n",
              "      <td>1</td>\n",
              "    </tr>\n",
              "    <tr>\n",
              "      <th>1186</th>\n",
              "      <td>68</td>\n",
              "      <td>144</td>\n",
              "      <td>193</td>\n",
              "      <td>1</td>\n",
              "      <td>0</td>\n",
              "      <td>141</td>\n",
              "      <td>0</td>\n",
              "      <td>3.4</td>\n",
              "      <td>1</td>\n",
              "    </tr>\n",
              "    <tr>\n",
              "      <th>1187</th>\n",
              "      <td>57</td>\n",
              "      <td>130</td>\n",
              "      <td>131</td>\n",
              "      <td>0</td>\n",
              "      <td>0</td>\n",
              "      <td>115</td>\n",
              "      <td>1</td>\n",
              "      <td>1.2</td>\n",
              "      <td>1</td>\n",
              "    </tr>\n",
              "    <tr>\n",
              "      <th>1188</th>\n",
              "      <td>57</td>\n",
              "      <td>130</td>\n",
              "      <td>236</td>\n",
              "      <td>0</td>\n",
              "      <td>2</td>\n",
              "      <td>174</td>\n",
              "      <td>0</td>\n",
              "      <td>0.0</td>\n",
              "      <td>1</td>\n",
              "    </tr>\n",
              "    <tr>\n",
              "      <th>1189</th>\n",
              "      <td>38</td>\n",
              "      <td>138</td>\n",
              "      <td>175</td>\n",
              "      <td>0</td>\n",
              "      <td>0</td>\n",
              "      <td>173</td>\n",
              "      <td>0</td>\n",
              "      <td>0.0</td>\n",
              "      <td>0</td>\n",
              "    </tr>\n",
              "  </tbody>\n",
              "</table>\n",
              "<p>1018 rows × 9 columns</p>\n",
              "</div>"
            ],
            "text/plain": [
              "      age  resting bpm  cholesterol  fasting blood sugar  resting ecg  \\\n",
              "0      40          140          289                    0            0   \n",
              "1      49          160          180                    0            0   \n",
              "2      37          130          283                    0            1   \n",
              "3      48          138          214                    0            0   \n",
              "4      54          150          195                    0            0   \n",
              "...   ...          ...          ...                  ...          ...   \n",
              "1185   45          110          264                    0            0   \n",
              "1186   68          144          193                    1            0   \n",
              "1187   57          130          131                    0            0   \n",
              "1188   57          130          236                    0            2   \n",
              "1189   38          138          175                    0            0   \n",
              "\n",
              "      max heart rate  exercise angina  oldpeak  danger  \n",
              "0                172                0      0.0       0  \n",
              "1                156                0      1.0       1  \n",
              "2                 98                0      0.0       0  \n",
              "3                108                1      1.5       1  \n",
              "4                122                0      0.0       0  \n",
              "...              ...              ...      ...     ...  \n",
              "1185             132                0      1.2       1  \n",
              "1186             141                0      3.4       1  \n",
              "1187             115                1      1.2       1  \n",
              "1188             174                0      0.0       1  \n",
              "1189             173                0      0.0       0  \n",
              "\n",
              "[1018 rows x 9 columns]"
            ]
          },
          "execution_count": 328,
          "metadata": {},
          "output_type": "execute_result"
        }
      ],
      "source": [
        "dataset_original = dataset.copy()\n",
        "dataset_original"
      ]
    },
    {
      "cell_type": "code",
      "execution_count": 329,
      "metadata": {
        "colab": {
          "base_uri": "https://localhost:8080/",
          "height": 557
        },
        "id": "_ulpwiQaJbf4",
        "outputId": "391e5cb4-4820-46ec-dc49-e4ee8e6fabf9"
      },
      "outputs": [
        {
          "data": {
            "text/html": [
              "<div>\n",
              "<style scoped>\n",
              "    .dataframe tbody tr th:only-of-type {\n",
              "        vertical-align: middle;\n",
              "    }\n",
              "\n",
              "    .dataframe tbody tr th {\n",
              "        vertical-align: top;\n",
              "    }\n",
              "\n",
              "    .dataframe thead th {\n",
              "        text-align: right;\n",
              "    }\n",
              "</style>\n",
              "<table border=\"1\" class=\"dataframe\">\n",
              "  <thead>\n",
              "    <tr style=\"text-align: right;\">\n",
              "      <th></th>\n",
              "      <th>age</th>\n",
              "      <th>resting bpm</th>\n",
              "      <th>cholesterol</th>\n",
              "      <th>fasting blood sugar</th>\n",
              "      <th>resting ecg</th>\n",
              "      <th>max heart rate</th>\n",
              "      <th>exercise angina</th>\n",
              "      <th>oldpeak</th>\n",
              "      <th>danger</th>\n",
              "    </tr>\n",
              "  </thead>\n",
              "  <tbody>\n",
              "    <tr>\n",
              "      <th>0</th>\n",
              "      <td>40</td>\n",
              "      <td>140</td>\n",
              "      <td>289</td>\n",
              "      <td>0</td>\n",
              "      <td>0</td>\n",
              "      <td>172</td>\n",
              "      <td>0</td>\n",
              "      <td>0.0</td>\n",
              "      <td>0</td>\n",
              "    </tr>\n",
              "    <tr>\n",
              "      <th>1</th>\n",
              "      <td>49</td>\n",
              "      <td>160</td>\n",
              "      <td>180</td>\n",
              "      <td>0</td>\n",
              "      <td>0</td>\n",
              "      <td>156</td>\n",
              "      <td>0</td>\n",
              "      <td>1.0</td>\n",
              "      <td>1</td>\n",
              "    </tr>\n",
              "    <tr>\n",
              "      <th>2</th>\n",
              "      <td>37</td>\n",
              "      <td>130</td>\n",
              "      <td>283</td>\n",
              "      <td>0</td>\n",
              "      <td>1</td>\n",
              "      <td>98</td>\n",
              "      <td>0</td>\n",
              "      <td>0.0</td>\n",
              "      <td>0</td>\n",
              "    </tr>\n",
              "    <tr>\n",
              "      <th>3</th>\n",
              "      <td>48</td>\n",
              "      <td>138</td>\n",
              "      <td>214</td>\n",
              "      <td>0</td>\n",
              "      <td>0</td>\n",
              "      <td>108</td>\n",
              "      <td>1</td>\n",
              "      <td>1.5</td>\n",
              "      <td>1</td>\n",
              "    </tr>\n",
              "    <tr>\n",
              "      <th>4</th>\n",
              "      <td>54</td>\n",
              "      <td>150</td>\n",
              "      <td>195</td>\n",
              "      <td>0</td>\n",
              "      <td>0</td>\n",
              "      <td>122</td>\n",
              "      <td>0</td>\n",
              "      <td>0.0</td>\n",
              "      <td>0</td>\n",
              "    </tr>\n",
              "    <tr>\n",
              "      <th>...</th>\n",
              "      <td>...</td>\n",
              "      <td>...</td>\n",
              "      <td>...</td>\n",
              "      <td>...</td>\n",
              "      <td>...</td>\n",
              "      <td>...</td>\n",
              "      <td>...</td>\n",
              "      <td>...</td>\n",
              "      <td>...</td>\n",
              "    </tr>\n",
              "    <tr>\n",
              "      <th>1185</th>\n",
              "      <td>45</td>\n",
              "      <td>110</td>\n",
              "      <td>264</td>\n",
              "      <td>0</td>\n",
              "      <td>0</td>\n",
              "      <td>132</td>\n",
              "      <td>0</td>\n",
              "      <td>1.2</td>\n",
              "      <td>1</td>\n",
              "    </tr>\n",
              "    <tr>\n",
              "      <th>1186</th>\n",
              "      <td>68</td>\n",
              "      <td>144</td>\n",
              "      <td>193</td>\n",
              "      <td>1</td>\n",
              "      <td>0</td>\n",
              "      <td>141</td>\n",
              "      <td>0</td>\n",
              "      <td>3.4</td>\n",
              "      <td>1</td>\n",
              "    </tr>\n",
              "    <tr>\n",
              "      <th>1187</th>\n",
              "      <td>57</td>\n",
              "      <td>130</td>\n",
              "      <td>131</td>\n",
              "      <td>0</td>\n",
              "      <td>0</td>\n",
              "      <td>115</td>\n",
              "      <td>1</td>\n",
              "      <td>1.2</td>\n",
              "      <td>1</td>\n",
              "    </tr>\n",
              "    <tr>\n",
              "      <th>1188</th>\n",
              "      <td>57</td>\n",
              "      <td>130</td>\n",
              "      <td>236</td>\n",
              "      <td>0</td>\n",
              "      <td>2</td>\n",
              "      <td>174</td>\n",
              "      <td>0</td>\n",
              "      <td>0.0</td>\n",
              "      <td>1</td>\n",
              "    </tr>\n",
              "    <tr>\n",
              "      <th>1189</th>\n",
              "      <td>38</td>\n",
              "      <td>138</td>\n",
              "      <td>175</td>\n",
              "      <td>0</td>\n",
              "      <td>0</td>\n",
              "      <td>173</td>\n",
              "      <td>0</td>\n",
              "      <td>0.0</td>\n",
              "      <td>0</td>\n",
              "    </tr>\n",
              "  </tbody>\n",
              "</table>\n",
              "<p>1018 rows × 9 columns</p>\n",
              "</div>"
            ],
            "text/plain": [
              "      age  resting bpm  cholesterol  fasting blood sugar  resting ecg  \\\n",
              "0      40          140          289                    0            0   \n",
              "1      49          160          180                    0            0   \n",
              "2      37          130          283                    0            1   \n",
              "3      48          138          214                    0            0   \n",
              "4      54          150          195                    0            0   \n",
              "...   ...          ...          ...                  ...          ...   \n",
              "1185   45          110          264                    0            0   \n",
              "1186   68          144          193                    1            0   \n",
              "1187   57          130          131                    0            0   \n",
              "1188   57          130          236                    0            2   \n",
              "1189   38          138          175                    0            0   \n",
              "\n",
              "      max heart rate  exercise angina  oldpeak  danger  \n",
              "0                172                0      0.0       0  \n",
              "1                156                0      1.0       1  \n",
              "2                 98                0      0.0       0  \n",
              "3                108                1      1.5       1  \n",
              "4                122                0      0.0       0  \n",
              "...              ...              ...      ...     ...  \n",
              "1185             132                0      1.2       1  \n",
              "1186             141                0      3.4       1  \n",
              "1187             115                1      1.2       1  \n",
              "1188             174                0      0.0       1  \n",
              "1189             173                0      0.0       0  \n",
              "\n",
              "[1018 rows x 9 columns]"
            ]
          },
          "execution_count": 329,
          "metadata": {},
          "output_type": "execute_result"
        }
      ],
      "source": [
        "dataset"
      ]
    },
    {
      "cell_type": "code",
      "execution_count": 330,
      "metadata": {
        "colab": {
          "base_uri": "https://localhost:8080/"
        },
        "id": "thd2Ir64OFFP",
        "outputId": "bab8622d-c5e5-4b98-d238-fccbaae0bcfb"
      },
      "outputs": [
        {
          "data": {
            "text/plain": [
              "danger                 1.000000\n",
              "exercise angina        0.519148\n",
              "oldpeak                0.470201\n",
              "age                    0.274112\n",
              "resting bpm            0.171239\n",
              "resting ecg            0.126441\n",
              "fasting blood sugar    0.115842\n",
              "cholesterol            0.105813\n",
              "max heart rate        -0.387733\n",
              "Name: danger, dtype: float64"
            ]
          },
          "execution_count": 330,
          "metadata": {},
          "output_type": "execute_result"
        }
      ],
      "source": [
        "# Examining correlation between features\n",
        "corr_matrix = dataset.corr()\n",
        "corr_matrix[\"danger\"].sort_values(ascending=False)\n"
      ]
    },
    {
      "cell_type": "markdown",
      "metadata": {
        "id": "BIWL7Lz0KvOf"
      },
      "source": [
        "**Scaling the dataset**"
      ]
    },
    {
      "cell_type": "code",
      "execution_count": 331,
      "metadata": {
        "id": "_KItqguqOPem"
      },
      "outputs": [],
      "source": [
        "from sklearn.preprocessing import StandardScaler"
      ]
    },
    {
      "cell_type": "code",
      "execution_count": 332,
      "metadata": {
        "colab": {
          "base_uri": "https://localhost:8080/"
        },
        "id": "chHZiXw8OrjW",
        "outputId": "3158681a-b6ea-4771-fb34-ad33cee20598"
      },
      "outputs": [
        {
          "data": {
            "text/plain": [
              "(1018, 5)"
            ]
          },
          "execution_count": 332,
          "metadata": {},
          "output_type": "execute_result"
        }
      ],
      "source": [
        "scaler = StandardScaler()\n",
        "scaled_features = scaler.fit_transform( dataset[numerical] )\n",
        "scaled_features.shape"
      ]
    },
    {
      "cell_type": "markdown",
      "metadata": {
        "id": "ma7IOQiaQkGI"
      },
      "source": [
        "**Standardization**"
      ]
    },
    {
      "cell_type": "code",
      "execution_count": 333,
      "metadata": {
        "colab": {
          "base_uri": "https://localhost:8080/",
          "height": 557
        },
        "id": "LUV5p_3cPYmM",
        "outputId": "395fee05-81d5-4ad6-c15d-f3565961e0d4"
      },
      "outputs": [
        {
          "data": {
            "text/html": [
              "<div>\n",
              "<style scoped>\n",
              "    .dataframe tbody tr th:only-of-type {\n",
              "        vertical-align: middle;\n",
              "    }\n",
              "\n",
              "    .dataframe tbody tr th {\n",
              "        vertical-align: top;\n",
              "    }\n",
              "\n",
              "    .dataframe thead th {\n",
              "        text-align: right;\n",
              "    }\n",
              "</style>\n",
              "<table border=\"1\" class=\"dataframe\">\n",
              "  <thead>\n",
              "    <tr style=\"text-align: right;\">\n",
              "      <th></th>\n",
              "      <th>age</th>\n",
              "      <th>resting bpm</th>\n",
              "      <th>cholesterol</th>\n",
              "      <th>fasting blood sugar</th>\n",
              "      <th>resting ecg</th>\n",
              "      <th>max heart rate</th>\n",
              "      <th>exercise angina</th>\n",
              "      <th>oldpeak</th>\n",
              "      <th>danger</th>\n",
              "    </tr>\n",
              "  </thead>\n",
              "  <tbody>\n",
              "    <tr>\n",
              "      <th>0</th>\n",
              "      <td>-1.412704</td>\n",
              "      <td>0.425872</td>\n",
              "      <td>0.753163</td>\n",
              "      <td>0</td>\n",
              "      <td>0</td>\n",
              "      <td>1.194669</td>\n",
              "      <td>0</td>\n",
              "      <td>-0.859178</td>\n",
              "      <td>0</td>\n",
              "    </tr>\n",
              "    <tr>\n",
              "      <th>1</th>\n",
              "      <td>-0.456357</td>\n",
              "      <td>1.572492</td>\n",
              "      <td>-1.151883</td>\n",
              "      <td>0</td>\n",
              "      <td>0</td>\n",
              "      <td>0.541603</td>\n",
              "      <td>0</td>\n",
              "      <td>0.055625</td>\n",
              "      <td>1</td>\n",
              "    </tr>\n",
              "    <tr>\n",
              "      <th>2</th>\n",
              "      <td>-1.731486</td>\n",
              "      <td>-0.147439</td>\n",
              "      <td>0.648298</td>\n",
              "      <td>0</td>\n",
              "      <td>1</td>\n",
              "      <td>-1.825764</td>\n",
              "      <td>0</td>\n",
              "      <td>-0.859178</td>\n",
              "      <td>0</td>\n",
              "    </tr>\n",
              "    <tr>\n",
              "      <th>3</th>\n",
              "      <td>-0.562618</td>\n",
              "      <td>0.311210</td>\n",
              "      <td>-0.557648</td>\n",
              "      <td>0</td>\n",
              "      <td>0</td>\n",
              "      <td>-1.417597</td>\n",
              "      <td>1</td>\n",
              "      <td>0.513026</td>\n",
              "      <td>1</td>\n",
              "    </tr>\n",
              "    <tr>\n",
              "      <th>4</th>\n",
              "      <td>0.074946</td>\n",
              "      <td>0.999182</td>\n",
              "      <td>-0.889721</td>\n",
              "      <td>0</td>\n",
              "      <td>0</td>\n",
              "      <td>-0.846164</td>\n",
              "      <td>0</td>\n",
              "      <td>-0.859178</td>\n",
              "      <td>0</td>\n",
              "    </tr>\n",
              "    <tr>\n",
              "      <th>...</th>\n",
              "      <td>...</td>\n",
              "      <td>...</td>\n",
              "      <td>...</td>\n",
              "      <td>...</td>\n",
              "      <td>...</td>\n",
              "      <td>...</td>\n",
              "      <td>...</td>\n",
              "      <td>...</td>\n",
              "      <td>...</td>\n",
              "    </tr>\n",
              "    <tr>\n",
              "      <th>1185</th>\n",
              "      <td>-0.881400</td>\n",
              "      <td>-1.294059</td>\n",
              "      <td>0.316226</td>\n",
              "      <td>0</td>\n",
              "      <td>0</td>\n",
              "      <td>-0.437997</td>\n",
              "      <td>0</td>\n",
              "      <td>0.238586</td>\n",
              "      <td>1</td>\n",
              "    </tr>\n",
              "    <tr>\n",
              "      <th>1186</th>\n",
              "      <td>1.562596</td>\n",
              "      <td>0.655196</td>\n",
              "      <td>-0.924676</td>\n",
              "      <td>1</td>\n",
              "      <td>0</td>\n",
              "      <td>-0.070647</td>\n",
              "      <td>0</td>\n",
              "      <td>2.251152</td>\n",
              "      <td>1</td>\n",
              "    </tr>\n",
              "    <tr>\n",
              "      <th>1187</th>\n",
              "      <td>0.393728</td>\n",
              "      <td>-0.147439</td>\n",
              "      <td>-2.008280</td>\n",
              "      <td>0</td>\n",
              "      <td>0</td>\n",
              "      <td>-1.131881</td>\n",
              "      <td>1</td>\n",
              "      <td>0.238586</td>\n",
              "      <td>1</td>\n",
              "    </tr>\n",
              "    <tr>\n",
              "      <th>1188</th>\n",
              "      <td>0.393728</td>\n",
              "      <td>-0.147439</td>\n",
              "      <td>-0.173144</td>\n",
              "      <td>0</td>\n",
              "      <td>2</td>\n",
              "      <td>1.276303</td>\n",
              "      <td>0</td>\n",
              "      <td>-0.859178</td>\n",
              "      <td>1</td>\n",
              "    </tr>\n",
              "    <tr>\n",
              "      <th>1189</th>\n",
              "      <td>-1.625225</td>\n",
              "      <td>0.311210</td>\n",
              "      <td>-1.239270</td>\n",
              "      <td>0</td>\n",
              "      <td>0</td>\n",
              "      <td>1.235486</td>\n",
              "      <td>0</td>\n",
              "      <td>-0.859178</td>\n",
              "      <td>0</td>\n",
              "    </tr>\n",
              "  </tbody>\n",
              "</table>\n",
              "<p>1018 rows × 9 columns</p>\n",
              "</div>"
            ],
            "text/plain": [
              "           age  resting bpm  cholesterol  fasting blood sugar  resting ecg  \\\n",
              "0    -1.412704     0.425872     0.753163                    0            0   \n",
              "1    -0.456357     1.572492    -1.151883                    0            0   \n",
              "2    -1.731486    -0.147439     0.648298                    0            1   \n",
              "3    -0.562618     0.311210    -0.557648                    0            0   \n",
              "4     0.074946     0.999182    -0.889721                    0            0   \n",
              "...        ...          ...          ...                  ...          ...   \n",
              "1185 -0.881400    -1.294059     0.316226                    0            0   \n",
              "1186  1.562596     0.655196    -0.924676                    1            0   \n",
              "1187  0.393728    -0.147439    -2.008280                    0            0   \n",
              "1188  0.393728    -0.147439    -0.173144                    0            2   \n",
              "1189 -1.625225     0.311210    -1.239270                    0            0   \n",
              "\n",
              "      max heart rate  exercise angina   oldpeak  danger  \n",
              "0           1.194669                0 -0.859178       0  \n",
              "1           0.541603                0  0.055625       1  \n",
              "2          -1.825764                0 -0.859178       0  \n",
              "3          -1.417597                1  0.513026       1  \n",
              "4          -0.846164                0 -0.859178       0  \n",
              "...              ...              ...       ...     ...  \n",
              "1185       -0.437997                0  0.238586       1  \n",
              "1186       -0.070647                0  2.251152       1  \n",
              "1187       -1.131881                1  0.238586       1  \n",
              "1188        1.276303                0 -0.859178       1  \n",
              "1189        1.235486                0 -0.859178       0  \n",
              "\n",
              "[1018 rows x 9 columns]"
            ]
          },
          "execution_count": 333,
          "metadata": {},
          "output_type": "execute_result"
        }
      ],
      "source": [
        "for i,j in zip(numerical , range(scaled_features.shape[1] ) ):\n",
        "  dataset[i] = scaled_features[:,j]\n",
        "dataset"
      ]
    },
    {
      "cell_type": "code",
      "execution_count": 334,
      "metadata": {
        "colab": {
          "base_uri": "https://localhost:8080/",
          "height": 1000
        },
        "id": "l0d3_6PoLATX",
        "outputId": "6f66f43d-f210-4b08-aac4-0633b77cf2aa"
      },
      "outputs": [
        {
          "data": {
            "text/plain": [
              "array([[<AxesSubplot: title={'center': 'age'}>,\n",
              "        <AxesSubplot: title={'center': 'resting bpm'}>,\n",
              "        <AxesSubplot: title={'center': 'cholesterol'}>],\n",
              "       [<AxesSubplot: title={'center': 'fasting blood sugar'}>,\n",
              "        <AxesSubplot: title={'center': 'resting ecg'}>,\n",
              "        <AxesSubplot: title={'center': 'max heart rate'}>],\n",
              "       [<AxesSubplot: title={'center': 'exercise angina'}>,\n",
              "        <AxesSubplot: title={'center': 'oldpeak'}>,\n",
              "        <AxesSubplot: title={'center': 'danger'}>]], dtype=object)"
            ]
          },
          "execution_count": 334,
          "metadata": {},
          "output_type": "execute_result"
        },
        {
          "data": {
            "image/png": "[encoded data removed]",
            "text/plain": [
              "<Figure size 1600x1600 with 9 Axes>"
            ]
          },
          "metadata": {},
          "output_type": "display_data"
        }
      ],
      "source": [
        "dataset.hist( bins = 20 , figsize=(16,16))"
      ]
    },
    {
      "cell_type": "code",
      "execution_count": 335,
      "metadata": {
        "id": "7J-jDlmwQqC5"
      },
      "outputs": [],
      "source": [
        "from sklearn.model_selection import train_test_split"
      ]
    },
    {
      "cell_type": "code",
      "execution_count": 336,
      "metadata": {
        "id": "TEgADGW-Qzti"
      },
      "outputs": [],
      "source": [
        "x = dataset.drop( columns=['danger'], axis=1) \n",
        "y = dataset['danger']"
      ]
    },
    {
      "cell_type": "code",
      "execution_count": 337,
      "metadata": {
        "colab": {
          "base_uri": "https://localhost:8080/",
          "height": 557
        },
        "id": "dIpsS_bMRQL4",
        "outputId": "106f96ab-fb35-4d1d-825a-9f4fde7ebbdf"
      },
      "outputs": [
        {
          "data": {
            "text/html": [
              "<div>\n",
              "<style scoped>\n",
              "    .dataframe tbody tr th:only-of-type {\n",
              "        vertical-align: middle;\n",
              "    }\n",
              "\n",
              "    .dataframe tbody tr th {\n",
              "        vertical-align: top;\n",
              "    }\n",
              "\n",
              "    .dataframe thead th {\n",
              "        text-align: right;\n",
              "    }\n",
              "</style>\n",
              "<table border=\"1\" class=\"dataframe\">\n",
              "  <thead>\n",
              "    <tr style=\"text-align: right;\">\n",
              "      <th></th>\n",
              "      <th>age</th>\n",
              "      <th>resting bpm</th>\n",
              "      <th>cholesterol</th>\n",
              "      <th>fasting blood sugar</th>\n",
              "      <th>resting ecg</th>\n",
              "      <th>max heart rate</th>\n",
              "      <th>exercise angina</th>\n",
              "      <th>oldpeak</th>\n",
              "    </tr>\n",
              "  </thead>\n",
              "  <tbody>\n",
              "    <tr>\n",
              "      <th>0</th>\n",
              "      <td>-1.412704</td>\n",
              "      <td>0.425872</td>\n",
              "      <td>0.753163</td>\n",
              "      <td>0</td>\n",
              "      <td>0</td>\n",
              "      <td>1.194669</td>\n",
              "      <td>0</td>\n",
              "      <td>-0.859178</td>\n",
              "    </tr>\n",
              "    <tr>\n",
              "      <th>1</th>\n",
              "      <td>-0.456357</td>\n",
              "      <td>1.572492</td>\n",
              "      <td>-1.151883</td>\n",
              "      <td>0</td>\n",
              "      <td>0</td>\n",
              "      <td>0.541603</td>\n",
              "      <td>0</td>\n",
              "      <td>0.055625</td>\n",
              "    </tr>\n",
              "    <tr>\n",
              "      <th>2</th>\n",
              "      <td>-1.731486</td>\n",
              "      <td>-0.147439</td>\n",
              "      <td>0.648298</td>\n",
              "      <td>0</td>\n",
              "      <td>1</td>\n",
              "      <td>-1.825764</td>\n",
              "      <td>0</td>\n",
              "      <td>-0.859178</td>\n",
              "    </tr>\n",
              "    <tr>\n",
              "      <th>3</th>\n",
              "      <td>-0.562618</td>\n",
              "      <td>0.311210</td>\n",
              "      <td>-0.557648</td>\n",
              "      <td>0</td>\n",
              "      <td>0</td>\n",
              "      <td>-1.417597</td>\n",
              "      <td>1</td>\n",
              "      <td>0.513026</td>\n",
              "    </tr>\n",
              "    <tr>\n",
              "      <th>4</th>\n",
              "      <td>0.074946</td>\n",
              "      <td>0.999182</td>\n",
              "      <td>-0.889721</td>\n",
              "      <td>0</td>\n",
              "      <td>0</td>\n",
              "      <td>-0.846164</td>\n",
              "      <td>0</td>\n",
              "      <td>-0.859178</td>\n",
              "    </tr>\n",
              "    <tr>\n",
              "      <th>...</th>\n",
              "      <td>...</td>\n",
              "      <td>...</td>\n",
              "      <td>...</td>\n",
              "      <td>...</td>\n",
              "      <td>...</td>\n",
              "      <td>...</td>\n",
              "      <td>...</td>\n",
              "      <td>...</td>\n",
              "    </tr>\n",
              "    <tr>\n",
              "      <th>1185</th>\n",
              "      <td>-0.881400</td>\n",
              "      <td>-1.294059</td>\n",
              "      <td>0.316226</td>\n",
              "      <td>0</td>\n",
              "      <td>0</td>\n",
              "      <td>-0.437997</td>\n",
              "      <td>0</td>\n",
              "      <td>0.238586</td>\n",
              "    </tr>\n",
              "    <tr>\n",
              "      <th>1186</th>\n",
              "      <td>1.562596</td>\n",
              "      <td>0.655196</td>\n",
              "      <td>-0.924676</td>\n",
              "      <td>1</td>\n",
              "      <td>0</td>\n",
              "      <td>-0.070647</td>\n",
              "      <td>0</td>\n",
              "      <td>2.251152</td>\n",
              "    </tr>\n",
              "    <tr>\n",
              "      <th>1187</th>\n",
              "      <td>0.393728</td>\n",
              "      <td>-0.147439</td>\n",
              "      <td>-2.008280</td>\n",
              "      <td>0</td>\n",
              "      <td>0</td>\n",
              "      <td>-1.131881</td>\n",
              "      <td>1</td>\n",
              "      <td>0.238586</td>\n",
              "    </tr>\n",
              "    <tr>\n",
              "      <th>1188</th>\n",
              "      <td>0.393728</td>\n",
              "      <td>-0.147439</td>\n",
              "      <td>-0.173144</td>\n",
              "      <td>0</td>\n",
              "      <td>2</td>\n",
              "      <td>1.276303</td>\n",
              "      <td>0</td>\n",
              "      <td>-0.859178</td>\n",
              "    </tr>\n",
              "    <tr>\n",
              "      <th>1189</th>\n",
              "      <td>-1.625225</td>\n",
              "      <td>0.311210</td>\n",
              "      <td>-1.239270</td>\n",
              "      <td>0</td>\n",
              "      <td>0</td>\n",
              "      <td>1.235486</td>\n",
              "      <td>0</td>\n",
              "      <td>-0.859178</td>\n",
              "    </tr>\n",
              "  </tbody>\n",
              "</table>\n",
              "<p>1018 rows × 8 columns</p>\n",
              "</div>"
            ],
            "text/plain": [
              "           age  resting bpm  cholesterol  fasting blood sugar  resting ecg  \\\n",
              "0    -1.412704     0.425872     0.753163                    0            0   \n",
              "1    -0.456357     1.572492    -1.151883                    0            0   \n",
              "2    -1.731486    -0.147439     0.648298                    0            1   \n",
              "3    -0.562618     0.311210    -0.557648                    0            0   \n",
              "4     0.074946     0.999182    -0.889721                    0            0   \n",
              "...        ...          ...          ...                  ...          ...   \n",
              "1185 -0.881400    -1.294059     0.316226                    0            0   \n",
              "1186  1.562596     0.655196    -0.924676                    1            0   \n",
              "1187  0.393728    -0.147439    -2.008280                    0            0   \n",
              "1188  0.393728    -0.147439    -0.173144                    0            2   \n",
              "1189 -1.625225     0.311210    -1.239270                    0            0   \n",
              "\n",
              "      max heart rate  exercise angina   oldpeak  \n",
              "0           1.194669                0 -0.859178  \n",
              "1           0.541603                0  0.055625  \n",
              "2          -1.825764                0 -0.859178  \n",
              "3          -1.417597                1  0.513026  \n",
              "4          -0.846164                0 -0.859178  \n",
              "...              ...              ...       ...  \n",
              "1185       -0.437997                0  0.238586  \n",
              "1186       -0.070647                0  2.251152  \n",
              "1187       -1.131881                1  0.238586  \n",
              "1188        1.276303                0 -0.859178  \n",
              "1189        1.235486                0 -0.859178  \n",
              "\n",
              "[1018 rows x 8 columns]"
            ]
          },
          "execution_count": 337,
          "metadata": {},
          "output_type": "execute_result"
        }
      ],
      "source": [
        "x"
      ]
    },
    {
      "cell_type": "code",
      "execution_count": 338,
      "metadata": {
        "colab": {
          "base_uri": "https://localhost:8080/"
        },
        "id": "VhmiPUSaRSwb",
        "outputId": "e4958f80-9829-4217-b587-05a7eae34714"
      },
      "outputs": [
        {
          "data": {
            "text/plain": [
              "0       0\n",
              "1       1\n",
              "2       0\n",
              "3       1\n",
              "4       0\n",
              "       ..\n",
              "1185    1\n",
              "1186    1\n",
              "1187    1\n",
              "1188    1\n",
              "1189    0\n",
              "Name: danger, Length: 1018, dtype: int64"
            ]
          },
          "execution_count": 338,
          "metadata": {},
          "output_type": "execute_result"
        }
      ],
      "source": [
        "y"
      ]
    },
    {
      "cell_type": "code",
      "execution_count": 339,
      "metadata": {
        "id": "NmkWKkxvRUXB"
      },
      "outputs": [],
      "source": [
        "x_train , x_test , y_train , y_test = train_test_split( x , y , test_size=0.2 , stratify=y , random_state=42 )"
      ]
    },
    {
      "cell_type": "markdown",
      "metadata": {
        "id": "9ab5GXuNMN72"
      },
      "source": [
        "**Data size limitations :**"
      ]
    },
    {
      "cell_type": "code",
      "execution_count": 340,
      "metadata": {
        "colab": {
          "base_uri": "https://localhost:8080/"
        },
        "id": "ajVXSABtSdJJ",
        "outputId": "25203360-20a8-49e3-8ec6-f7b924566e56"
      },
      "outputs": [
        {
          "data": {
            "text/plain": [
              "(814, 8)"
            ]
          },
          "execution_count": 340,
          "metadata": {},
          "output_type": "execute_result"
        }
      ],
      "source": [
        "x_train.shape"
      ]
    },
    {
      "cell_type": "code",
      "execution_count": 341,
      "metadata": {
        "colab": {
          "base_uri": "https://localhost:8080/"
        },
        "id": "NAffmjwPSgCi",
        "outputId": "a2d58a86-fe1f-4942-980f-b2b047e38cc9"
      },
      "outputs": [
        {
          "data": {
            "text/plain": [
              "(204, 8)"
            ]
          },
          "execution_count": 341,
          "metadata": {},
          "output_type": "execute_result"
        }
      ],
      "source": [
        "x_test.shape"
      ]
    },
    {
      "cell_type": "markdown",
      "metadata": {
        "id": "drVpEI7vS6Gq"
      },
      "source": [
        "**Logistic Regression Model Implementation**"
      ]
    },
    {
      "cell_type": "code",
      "execution_count": 342,
      "metadata": {
        "id": "deoYRQG3SpBY"
      },
      "outputs": [],
      "source": [
        "from sklearn.linear_model import LogisticRegression"
      ]
    },
    {
      "cell_type": "code",
      "execution_count": 343,
      "metadata": {
        "id": "NxCWBJfvT-Fv"
      },
      "outputs": [],
      "source": [
        "from sklearn.model_selection import GridSearchCV"
      ]
    },
    {
      "cell_type": "code",
      "execution_count": 344,
      "metadata": {
        "id": "elOx0y7eUGNG"
      },
      "outputs": [],
      "source": [
        "model = LogisticRegression()"
      ]
    },
    {
      "cell_type": "code",
      "execution_count": 345,
      "metadata": {
        "id": "G3dvXhycUW1U"
      },
      "outputs": [],
      "source": [
        "grid= { \"C\": np.logspace(-2 , 2) , \"solver\" : [ \"liblinear\" , \"saga\" ] , \"penalty\":[\"l1\",\"l2\"] }\n",
        "model_grid_cv = GridSearchCV( model , grid , cv=4 , scoring = 'accuracy' , return_train_score= True )"
      ]
    },
    {
      "cell_type": "code",
      "execution_count": 346,
      "metadata": {
        "colab": {
          "base_uri": "https://localhost:8080/"
        },
        "id": "-U1Knvo6bZmE",
        "outputId": "64f6131f-d77a-4cdf-d505-0a55d738cd8d"
      },
      "outputs": [
        {
          "data": {
            "text/html": [
              "<style>#sk-container-id-5 {color: black;background-color: white;}#sk-container-id-5 pre{padding: 0;}#sk-container-id-5 div.sk-toggleable {background-color: white;}#sk-container-id-5 label.sk-toggleable__label {cursor: pointer;display: block;width: 100%;margin-bottom: 0;padding: 0.3em;box-sizing: border-box;text-align: center;}#sk-container-id-5 label.sk-toggleable__label-arrow:before {content: \"▸\";float: left;margin-right: 0.25em;color: #696969;}#sk-container-id-5 label.sk-toggleable__label-arrow:hover:before {color: black;}#sk-container-id-5 div.sk-estimator:hover label.sk-toggleable__label-arrow:before {color: black;}#sk-container-id-5 div.sk-toggleable__content {max-height: 0;max-width: 0;overflow: hidden;text-align: left;background-color: #f0f8ff;}#sk-container-id-5 div.sk-toggleable__content pre {margin: 0.2em;color: black;border-radius: 0.25em;background-color: #f0f8ff;}#sk-container-id-5 input.sk-toggleable__control:checked~div.sk-toggleable__content {max-height: 200px;max-width: 100%;overflow: auto;}#sk-container-id-5 input.sk-toggleable__control:checked~label.sk-toggleable__label-arrow:before {content: \"▾\";}#sk-container-id-5 div.sk-estimator input.sk-toggleable__control:checked~label.sk-toggleable__label {background-color: #d4ebff;}#sk-container-id-5 div.sk-label input.sk-toggleable__control:checked~label.sk-toggleable__label {background-color: #d4ebff;}#sk-container-id-5 input.sk-hidden--visually {border: 0;clip: rect(1px 1px 1px 1px);clip: rect(1px, 1px, 1px, 1px);height: 1px;margin: -1px;overflow: hidden;padding: 0;position: absolute;width: 1px;}#sk-container-id-5 div.sk-estimator {font-family: monospace;background-color: #f0f8ff;border: 1px dotted black;border-radius: 0.25em;box-sizing: border-box;margin-bottom: 0.5em;}#sk-container-id-5 div.sk-estimator:hover {background-color: #d4ebff;}#sk-container-id-5 div.sk-parallel-item::after {content: \"\";width: 100%;border-bottom: 1px solid gray;flex-grow: 1;}#sk-container-id-5 div.sk-label:hover label.sk-toggleable__label {background-color: #d4ebff;}#sk-container-id-5 div.sk-serial::before {content: \"\";position: absolute;border-left: 1px solid gray;box-sizing: border-box;top: 0;bottom: 0;left: 50%;z-index: 0;}#sk-container-id-5 div.sk-serial {display: flex;flex-direction: column;align-items: center;background-color: white;padding-right: 0.2em;padding-left: 0.2em;position: relative;}#sk-container-id-5 div.sk-item {position: relative;z-index: 1;}#sk-container-id-5 div.sk-parallel {display: flex;align-items: stretch;justify-content: center;background-color: white;position: relative;}#sk-container-id-5 div.sk-item::before, #sk-container-id-5 div.sk-parallel-item::before {content: \"\";position: absolute;border-left: 1px solid gray;box-sizing: border-box;top: 0;bottom: 0;left: 50%;z-index: -1;}#sk-container-id-5 div.sk-parallel-item {display: flex;flex-direction: column;z-index: 1;position: relative;background-color: white;}#sk-container-id-5 div.sk-parallel-item:first-child::after {align-self: flex-end;width: 50%;}#sk-container-id-5 div.sk-parallel-item:last-child::after {align-self: flex-start;width: 50%;}#sk-container-id-5 div.sk-parallel-item:only-child::after {width: 0;}#sk-container-id-5 div.sk-dashed-wrapped {border: 1px dashed gray;margin: 0 0.4em 0.5em 0.4em;box-sizing: border-box;padding-bottom: 0.4em;background-color: white;}#sk-container-id-5 div.sk-label label {font-family: monospace;font-weight: bold;display: inline-block;line-height: 1.2em;}#sk-container-id-5 div.sk-label-container {text-align: center;}#sk-container-id-5 div.sk-container {/* jupyter's `normalize.less` sets `[hidden] { display: none; }` but bootstrap.min.css set `[hidden] { display: none !important; }` so we also need the `!important` here to be able to override the default hidden behavior on the sphinx rendered scikit-learn.org. See: https://github.com/scikit-learn/scikit-learn/issues/21755 */display: inline-block !important;position: relative;}#sk-container-id-5 div.sk-text-repr-fallback {display: none;}</style><div id=\"sk-container-id-5\" class=\"sk-top-container\"><div class=\"sk-text-repr-fallback\"><pre>GridSearchCV(cv=4, estimator=LogisticRegression(),\n",
              "             param_grid={&#x27;C&#x27;: array([1.00000000e-02, 1.20679264e-02, 1.45634848e-02, 1.75751062e-02,\n",
              "       2.12095089e-02, 2.55954792e-02, 3.08884360e-02, 3.72759372e-02,\n",
              "       4.49843267e-02, 5.42867544e-02, 6.55128557e-02, 7.90604321e-02,\n",
              "       9.54095476e-02, 1.15139540e-01, 1.38949549e-01, 1.67683294e-01,\n",
              "       2.02358965e-01, 2.44205309e-01, 2.947051...\n",
              "       4.09491506e+00, 4.94171336e+00, 5.96362332e+00, 7.19685673e+00,\n",
              "       8.68511374e+00, 1.04811313e+01, 1.26485522e+01, 1.52641797e+01,\n",
              "       1.84206997e+01, 2.22299648e+01, 2.68269580e+01, 3.23745754e+01,\n",
              "       3.90693994e+01, 4.71486636e+01, 5.68986603e+01, 6.86648845e+01,\n",
              "       8.28642773e+01, 1.00000000e+02]),\n",
              "                         &#x27;penalty&#x27;: [&#x27;l1&#x27;, &#x27;l2&#x27;],\n",
              "                         &#x27;solver&#x27;: [&#x27;liblinear&#x27;, &#x27;saga&#x27;]},\n",
              "             return_train_score=True, scoring=&#x27;accuracy&#x27;)</pre><b>In a Jupyter environment, please rerun this cell to show the HTML representation or trust the notebook. <br />On GitHub, the HTML representation is unable to render, please try loading this page with nbviewer.org.</b></div><div class=\"sk-container\" hidden><div class=\"sk-item sk-dashed-wrapped\"><div class=\"sk-label-container\"><div class=\"sk-label sk-toggleable\"><input class=\"sk-toggleable__control sk-hidden--visually\" id=\"sk-estimator-id-13\" type=\"checkbox\" ><label for=\"sk-estimator-id-13\" class=\"sk-toggleable__label sk-toggleable__label-arrow\">GridSearchCV</label><div class=\"sk-toggleable__content\"><pre>GridSearchCV(cv=4, estimator=LogisticRegression(),\n",
              "             param_grid={&#x27;C&#x27;: array([1.00000000e-02, 1.20679264e-02, 1.45634848e-02, 1.75751062e-02,\n",
              "       2.12095089e-02, 2.55954792e-02, 3.08884360e-02, 3.72759372e-02,\n",
              "       4.49843267e-02, 5.42867544e-02, 6.55128557e-02, 7.90604321e-02,\n",
              "       9.54095476e-02, 1.15139540e-01, 1.38949549e-01, 1.67683294e-01,\n",
              "       2.02358965e-01, 2.44205309e-01, 2.947051...\n",
              "       4.09491506e+00, 4.94171336e+00, 5.96362332e+00, 7.19685673e+00,\n",
              "       8.68511374e+00, 1.04811313e+01, 1.26485522e+01, 1.52641797e+01,\n",
              "       1.84206997e+01, 2.22299648e+01, 2.68269580e+01, 3.23745754e+01,\n",
              "       3.90693994e+01, 4.71486636e+01, 5.68986603e+01, 6.86648845e+01,\n",
              "       8.28642773e+01, 1.00000000e+02]),\n",
              "                         &#x27;penalty&#x27;: [&#x27;l1&#x27;, &#x27;l2&#x27;],\n",
              "                         &#x27;solver&#x27;: [&#x27;liblinear&#x27;, &#x27;saga&#x27;]},\n",
              "             return_train_score=True, scoring=&#x27;accuracy&#x27;)</pre></div></div></div><div class=\"sk-parallel\"><div class=\"sk-parallel-item\"><div class=\"sk-item\"><div class=\"sk-label-container\"><div class=\"sk-label sk-toggleable\"><input class=\"sk-toggleable__control sk-hidden--visually\" id=\"sk-estimator-id-14\" type=\"checkbox\" ><label for=\"sk-estimator-id-14\" class=\"sk-toggleable__label sk-toggleable__label-arrow\">estimator: LogisticRegression</label><div class=\"sk-toggleable__content\"><pre>LogisticRegression()</pre></div></div></div><div class=\"sk-serial\"><div class=\"sk-item\"><div class=\"sk-estimator sk-toggleable\"><input class=\"sk-toggleable__control sk-hidden--visually\" id=\"sk-estimator-id-15\" type=\"checkbox\" ><label for=\"sk-estimator-id-15\" class=\"sk-toggleable__label sk-toggleable__label-arrow\">LogisticRegression</label><div class=\"sk-toggleable__content\"><pre>LogisticRegression()</pre></div></div></div></div></div></div></div></div></div></div>"
            ],
            "text/plain": [
              "GridSearchCV(cv=4, estimator=LogisticRegression(),\n",
              "             param_grid={'C': array([1.00000000e-02, 1.20679264e-02, 1.45634848e-02, 1.75751062e-02,\n",
              "       2.12095089e-02, 2.55954792e-02, 3.08884360e-02, 3.72759372e-02,\n",
              "       4.49843267e-02, 5.42867544e-02, 6.55128557e-02, 7.90604321e-02,\n",
              "       9.54095476e-02, 1.15139540e-01, 1.38949549e-01, 1.67683294e-01,\n",
              "       2.02358965e-01, 2.44205309e-01, 2.947051...\n",
              "       4.09491506e+00, 4.94171336e+00, 5.96362332e+00, 7.19685673e+00,\n",
              "       8.68511374e+00, 1.04811313e+01, 1.26485522e+01, 1.52641797e+01,\n",
              "       1.84206997e+01, 2.22299648e+01, 2.68269580e+01, 3.23745754e+01,\n",
              "       3.90693994e+01, 4.71486636e+01, 5.68986603e+01, 6.86648845e+01,\n",
              "       8.28642773e+01, 1.00000000e+02]),\n",
              "                         'penalty': ['l1', 'l2'],\n",
              "                         'solver': ['liblinear', 'saga']},\n",
              "             return_train_score=True, scoring='accuracy')"
            ]
          },
          "execution_count": 346,
          "metadata": {},
          "output_type": "execute_result"
        }
      ],
      "source": [
        "from warnings import filterwarnings\n",
        "filterwarnings('ignore')\n",
        "model_grid_cv.fit(x_train, y_train)"
      ]
    },
    {
      "cell_type": "code",
      "execution_count": 347,
      "metadata": {
        "colab": {
          "base_uri": "https://localhost:8080/"
        },
        "id": "0PWykzpqbmo6",
        "outputId": "430e55d5-8611-4bb0-88c2-e649ce1a5cc4"
      },
      "outputs": [
        {
          "name": "stdout",
          "output_type": "stream",
          "text": [
            " Best model characteristics : \n",
            " Best estimator :  LogisticRegression(C=0.517947467923121, penalty='l1', solver='saga')\n",
            " Best score :  0.8083285038153192\n",
            " Best params :  {'C': 0.517947467923121, 'penalty': 'l1', 'solver': 'saga'}\n"
          ]
        }
      ],
      "source": [
        "print(\" Best model characteristics : \")\n",
        "print(\" Best estimator : \", model_grid_cv.best_estimator_ )\n",
        "print(\" Best score : \", model_grid_cv.best_score_ )\n",
        "print(\" Best params : \", model_grid_cv.best_params_ )"
      ]
    },
    {
      "cell_type": "code",
      "execution_count": 348,
      "metadata": {
        "colab": {
          "base_uri": "https://localhost:8080/"
        },
        "id": "zW1QYcTSdGkm",
        "outputId": "6908bdc4-23de-4087-e583-c2e7247678c3"
      },
      "outputs": [],
      "source": [
        "for i,j in zip( model_grid_cv.cv_results_['mean_test_score'] , model_grid_cv.cv_results_['params'] ) :\n",
        "  if( i>0.845 ):\n",
        "    print(\" The model scored : {} using the params : {} \".format(i,j) )\n",
        "    print('----------------------------------------------------------------------------') "
      ]
    },
    {
      "cell_type": "code",
      "execution_count": 349,
      "metadata": {
        "id": "gk3vqJ1ZiaRy"
      },
      "outputs": [],
      "source": [
        "from sklearn.model_selection import cross_val_score\n",
        "logistic_classifier = model_grid_cv.best_estimator_\n",
        "scores = cross_val_score(logistic_classifier , x_train , y_train , scoring='accuracy' , cv = 4 )"
      ]
    },
    {
      "cell_type": "code",
      "execution_count": 350,
      "metadata": {
        "colab": {
          "base_uri": "https://localhost:8080/"
        },
        "id": "OYQBZ8DElcH4",
        "outputId": "310a2f11-dd7b-4e6f-c3ff-59c72bba3b71"
      },
      "outputs": [
        {
          "data": {
            "text/plain": [
              "array([0.83823529, 0.79901961, 0.78817734, 0.80788177])"
            ]
          },
          "execution_count": 350,
          "metadata": {},
          "output_type": "execute_result"
        }
      ],
      "source": [
        "scores"
      ]
    },
    {
      "cell_type": "code",
      "execution_count": 351,
      "metadata": {
        "id": "3QQ5rLC4lic3"
      },
      "outputs": [],
      "source": [
        "y_predict = logistic_classifier.predict(x_test)"
      ]
    },
    {
      "cell_type": "markdown",
      "metadata": {
        "id": "jiWGI7aVOLf8"
      },
      "source": [
        "**Measuring a model's performance**"
      ]
    },
    {
      "cell_type": "code",
      "execution_count": 352,
      "metadata": {
        "id": "RIePyWzUmrJ3"
      },
      "outputs": [],
      "source": [
        "from sklearn.metrics import accuracy_score"
      ]
    },
    {
      "cell_type": "code",
      "execution_count": 353,
      "metadata": {
        "colab": {
          "base_uri": "https://localhost:8080/"
        },
        "id": "bYLSU9RKnBoM",
        "outputId": "9c2b5da2-06a4-41ee-cdc9-8933b3b3bfff"
      },
      "outputs": [
        {
          "name": "stdout",
          "output_type": "stream",
          "text": [
            "The model's accuracy = 0.760\n"
          ]
        }
      ],
      "source": [
        "accuracy = accuracy_score( y_test , y_predict )\n",
        "print(\"The model's accuracy = %.3f\" % accuracy)"
      ]
    },
    {
      "cell_type": "code",
      "execution_count": 354,
      "metadata": {
        "id": "4hdNAhgutdFI"
      },
      "outputs": [],
      "source": [
        "from sklearn.metrics import confusion_matrix"
      ]
    },
    {
      "cell_type": "code",
      "execution_count": 386,
      "metadata": {
        "id": "xxs8jxshth2s"
      },
      "outputs": [
        {
          "data": {
            "text/plain": [
              "array([[97, 11],\n",
              "       [20, 76]])"
            ]
          },
          "execution_count": 386,
          "metadata": {},
          "output_type": "execute_result"
        }
      ],
      "source": [
        "matrix = confusion_matrix( y_test , y_predict )\n",
        "matrix"
      ]
    },
    {
      "cell_type": "code",
      "execution_count": 357,
      "metadata": {
        "id": "1COWsX-mxgg9"
      },
      "outputs": [],
      "source": [
        "[tn, fp] ,  [fn, tp] = matrix"
      ]
    },
    {
      "cell_type": "code",
      "execution_count": 358,
      "metadata": {
        "colab": {
          "base_uri": "https://localhost:8080/"
        },
        "id": "KEkzmBFexygA",
        "outputId": "6537d5ea-10d6-4fe7-f7cf-f4b17bcd4f21"
      },
      "outputs": [
        {
          "name": "stdout",
          "output_type": "stream",
          "text": [
            "Model's recall = 0.656 \n"
          ]
        }
      ],
      "source": [
        "recall = tp / ( tp + fn )\n",
        "print(\"Model's recall = %.3f \" % recall)"
      ]
    },
    {
      "attachments": {},
      "cell_type": "markdown",
      "metadata": {
        "id": "SyfuaaHmPsWU"
      },
      "source": [
        "PPL"
      ]
    },
    {
      "cell_type": "code",
      "execution_count": 359,
      "metadata": {
        "id": "cl6aLZ4ZPxfF"
      },
      "outputs": [],
      "source": [
        "from warnings import filterwarnings\n",
        "filterwarnings('ignore')\n",
        "def logistic_regressio_model(x,y, numerical):\n",
        "  #-------------------------------\n",
        "  # Importing modules\n",
        "  import pandas as pd\n",
        "  import numpy as np\n",
        "  import matplotlib.pyplot as plt\n",
        "  import sklearn\n",
        "  from sklearn.preprocessing import StandardScaler\n",
        "  from sklearn.model_selection import train_test_split\n",
        "  from sklearn.linear_model import LogisticRegression\n",
        "  from sklearn.model_selection import GridSearchCV\n",
        "  from sklearn.model_selection import cross_val_score\n",
        "  from sklearn.metrics import accuracy_score\n",
        "  from sklearn.metrics import confusion_matrix\n",
        "  #-------------------------------\n",
        "  # Standardization the numerical features\n",
        "  scaler = StandardScaler()\n",
        "  scaled_features = scaler.fit_transform( x[numerical] )\n",
        "  for i,j in zip(numerical , range(scaled_features.shape[1] ) ):\n",
        "    x[i] = scaled_features[:,j]\n",
        "  #-------------------------------\n",
        "  # Splitting the dataset\n",
        "  x_train , x_test , y_train , y_test = train_test_split( x , y , test_size=0.2 , stratify=y , random_state=42 )\n",
        "  #-------------------------------\n",
        "  # Instanciating a model\n",
        "  model = LogisticRegression()\n",
        "  #-------------------------------\n",
        "  # Defining the grid search\n",
        "  grid= { \"C\": np.logspace(-2 , 2) , \"solver\" : [ \"liblinear\" , \"saga\" ] , \"penalty\":[\"l1\",\"l2\"] }\n",
        "  #-------------------------------\n",
        "  # Fitting the grid search to the dataset\n",
        "  model_grid_cv = GridSearchCV( model , grid , cv=4 , scoring = 'accuracy' , return_train_score= True )\n",
        "  model_grid_cv.fit(x_train, y_train)\n",
        "  #-------------------------------\n",
        "  # Displaying the most efficient model characteristics\n",
        "  print(\" Best model characteristics : \")\n",
        "  print(\"     Best estimator : \", model_grid_cv.best_estimator_ )\n",
        "  print(\"     Best score : \", model_grid_cv.best_score_ )\n",
        "  print(\"     Best params : \", model_grid_cv.best_params_ )\n",
        "  print('  ------------------------------------------------')\n",
        "  #-------------------------------\n",
        "  # Using the best model ( estimator )\n",
        "  logistic_classifier = model_grid_cv.best_estimator_\n",
        "  #-------------------------------\n",
        "  # Applying a cross validation scoring\n",
        "  scores = cross_val_score(logistic_classifier , x_train , y_train , scoring='accuracy' , cv = 4 )\n",
        "  print(\"  Evaluating the final model : \")\n",
        "  print(\"      Cross validation scores = \", scores)\n",
        "  #-------------------------------\n",
        "  # Making a real estimation on our model's performance on the test set\n",
        "  y_predict = logistic_classifier.predict(x_test)\n",
        "  #-------------------------------\n",
        "  # Accuracy evaluation\n",
        "  accuracy = accuracy_score( y_test , y_predict )\n",
        "  print(\"      The model's accuracy = %.3f\" % accuracy)\n",
        "  #-------------------------------\n",
        "  # Evaluation using a confusion matrix\n",
        "  matrix = confusion_matrix( y_test , y_predict )\n",
        "  [tn, fp] ,  [fn, tp ] = matrix\n",
        "  recall = tp / ( tp + fn )\n",
        "  print(\"      Model's recall = %.3f \" % recall)\n",
        "  #-------------------------------\n",
        "  return [ logistic_classifier, recall ]"
      ]
    },
    {
      "cell_type": "markdown",
      "metadata": {
        "id": "Np1ViNy9TKnS"
      },
      "source": [
        "**Let's do more experiments**"
      ]
    },
    {
      "cell_type": "markdown",
      "metadata": {
        "id": "ud6ETOq_Tr3K"
      },
      "source": [
        "Model history"
      ]
    },
    {
      "cell_type": "code",
      "execution_count": 360,
      "metadata": {
        "colab": {
          "base_uri": "https://localhost:8080/"
        },
        "id": "XlXzIjM2TNvC",
        "outputId": "c7dbf201-155d-4c18-c7a5-8a469d26ba26"
      },
      "outputs": [
        {
          "data": {
            "text/plain": [
              "0.656"
            ]
          },
          "execution_count": 360,
          "metadata": {},
          "output_type": "execute_result"
        }
      ],
      "source": [
        "model_history = []\n",
        "model_history.append( [x, logistic_classifier, float('%.3f' % recall) ] )\n",
        "model_history[0][2]"
      ]
    },
    {
      "cell_type": "code",
      "execution_count": 361,
      "metadata": {
        "id": "AGsl3EhjWhna"
      },
      "outputs": [],
      "source": [
        "x_new = dataset_original.copy().drop( columns=['danger'] )\n",
        "y_new = y"
      ]
    },
    {
      "cell_type": "code",
      "execution_count": 362,
      "metadata": {
        "colab": {
          "base_uri": "https://localhost:8080/",
          "height": 520
        },
        "id": "HtUgZvDkWlBn",
        "outputId": "806360ea-a990-45e6-f58c-acc630e063a7"
      },
      "outputs": [
        {
          "data": {
            "text/html": [
              "<div>\n",
              "<style scoped>\n",
              "    .dataframe tbody tr th:only-of-type {\n",
              "        vertical-align: middle;\n",
              "    }\n",
              "\n",
              "    .dataframe tbody tr th {\n",
              "        vertical-align: top;\n",
              "    }\n",
              "\n",
              "    .dataframe thead th {\n",
              "        text-align: right;\n",
              "    }\n",
              "</style>\n",
              "<table border=\"1\" class=\"dataframe\">\n",
              "  <thead>\n",
              "    <tr style=\"text-align: right;\">\n",
              "      <th></th>\n",
              "      <th>age</th>\n",
              "      <th>resting bpm</th>\n",
              "      <th>cholesterol</th>\n",
              "      <th>fasting blood sugar</th>\n",
              "      <th>resting ecg</th>\n",
              "      <th>max heart rate</th>\n",
              "      <th>exercise angina</th>\n",
              "      <th>oldpeak</th>\n",
              "    </tr>\n",
              "  </thead>\n",
              "  <tbody>\n",
              "    <tr>\n",
              "      <th>0</th>\n",
              "      <td>40</td>\n",
              "      <td>140</td>\n",
              "      <td>289</td>\n",
              "      <td>0</td>\n",
              "      <td>0</td>\n",
              "      <td>172</td>\n",
              "      <td>0</td>\n",
              "      <td>0.0</td>\n",
              "    </tr>\n",
              "    <tr>\n",
              "      <th>1</th>\n",
              "      <td>49</td>\n",
              "      <td>160</td>\n",
              "      <td>180</td>\n",
              "      <td>0</td>\n",
              "      <td>0</td>\n",
              "      <td>156</td>\n",
              "      <td>0</td>\n",
              "      <td>1.0</td>\n",
              "    </tr>\n",
              "    <tr>\n",
              "      <th>2</th>\n",
              "      <td>37</td>\n",
              "      <td>130</td>\n",
              "      <td>283</td>\n",
              "      <td>0</td>\n",
              "      <td>1</td>\n",
              "      <td>98</td>\n",
              "      <td>0</td>\n",
              "      <td>0.0</td>\n",
              "    </tr>\n",
              "    <tr>\n",
              "      <th>3</th>\n",
              "      <td>48</td>\n",
              "      <td>138</td>\n",
              "      <td>214</td>\n",
              "      <td>0</td>\n",
              "      <td>0</td>\n",
              "      <td>108</td>\n",
              "      <td>1</td>\n",
              "      <td>1.5</td>\n",
              "    </tr>\n",
              "    <tr>\n",
              "      <th>4</th>\n",
              "      <td>54</td>\n",
              "      <td>150</td>\n",
              "      <td>195</td>\n",
              "      <td>0</td>\n",
              "      <td>0</td>\n",
              "      <td>122</td>\n",
              "      <td>0</td>\n",
              "      <td>0.0</td>\n",
              "    </tr>\n",
              "    <tr>\n",
              "      <th>...</th>\n",
              "      <td>...</td>\n",
              "      <td>...</td>\n",
              "      <td>...</td>\n",
              "      <td>...</td>\n",
              "      <td>...</td>\n",
              "      <td>...</td>\n",
              "      <td>...</td>\n",
              "      <td>...</td>\n",
              "    </tr>\n",
              "    <tr>\n",
              "      <th>1185</th>\n",
              "      <td>45</td>\n",
              "      <td>110</td>\n",
              "      <td>264</td>\n",
              "      <td>0</td>\n",
              "      <td>0</td>\n",
              "      <td>132</td>\n",
              "      <td>0</td>\n",
              "      <td>1.2</td>\n",
              "    </tr>\n",
              "    <tr>\n",
              "      <th>1186</th>\n",
              "      <td>68</td>\n",
              "      <td>144</td>\n",
              "      <td>193</td>\n",
              "      <td>1</td>\n",
              "      <td>0</td>\n",
              "      <td>141</td>\n",
              "      <td>0</td>\n",
              "      <td>3.4</td>\n",
              "    </tr>\n",
              "    <tr>\n",
              "      <th>1187</th>\n",
              "      <td>57</td>\n",
              "      <td>130</td>\n",
              "      <td>131</td>\n",
              "      <td>0</td>\n",
              "      <td>0</td>\n",
              "      <td>115</td>\n",
              "      <td>1</td>\n",
              "      <td>1.2</td>\n",
              "    </tr>\n",
              "    <tr>\n",
              "      <th>1188</th>\n",
              "      <td>57</td>\n",
              "      <td>130</td>\n",
              "      <td>236</td>\n",
              "      <td>0</td>\n",
              "      <td>2</td>\n",
              "      <td>174</td>\n",
              "      <td>0</td>\n",
              "      <td>0.0</td>\n",
              "    </tr>\n",
              "    <tr>\n",
              "      <th>1189</th>\n",
              "      <td>38</td>\n",
              "      <td>138</td>\n",
              "      <td>175</td>\n",
              "      <td>0</td>\n",
              "      <td>0</td>\n",
              "      <td>173</td>\n",
              "      <td>0</td>\n",
              "      <td>0.0</td>\n",
              "    </tr>\n",
              "  </tbody>\n",
              "</table>\n",
              "<p>1018 rows × 8 columns</p>\n",
              "</div>"
            ],
            "text/plain": [
              "      age  resting bpm  cholesterol  fasting blood sugar  resting ecg  \\\n",
              "0      40          140          289                    0            0   \n",
              "1      49          160          180                    0            0   \n",
              "2      37          130          283                    0            1   \n",
              "3      48          138          214                    0            0   \n",
              "4      54          150          195                    0            0   \n",
              "...   ...          ...          ...                  ...          ...   \n",
              "1185   45          110          264                    0            0   \n",
              "1186   68          144          193                    1            0   \n",
              "1187   57          130          131                    0            0   \n",
              "1188   57          130          236                    0            2   \n",
              "1189   38          138          175                    0            0   \n",
              "\n",
              "      max heart rate  exercise angina  oldpeak  \n",
              "0                172                0      0.0  \n",
              "1                156                0      1.0  \n",
              "2                 98                0      0.0  \n",
              "3                108                1      1.5  \n",
              "4                122                0      0.0  \n",
              "...              ...              ...      ...  \n",
              "1185             132                0      1.2  \n",
              "1186             141                0      3.4  \n",
              "1187             115                1      1.2  \n",
              "1188             174                0      0.0  \n",
              "1189             173                0      0.0  \n",
              "\n",
              "[1018 rows x 8 columns]"
            ]
          },
          "execution_count": 362,
          "metadata": {},
          "output_type": "execute_result"
        }
      ],
      "source": [
        "x_new"
      ]
    },
    {
      "cell_type": "code",
      "execution_count": 363,
      "metadata": {
        "colab": {
          "base_uri": "https://localhost:8080/"
        },
        "id": "_3rRddSvXynP",
        "outputId": "c741c1aa-743b-47a1-b7ff-a6bb33177731"
      },
      "outputs": [
        {
          "name": "stdout",
          "output_type": "stream",
          "text": [
            " Best model characteristics : \n",
            "     Best estimator :  LogisticRegression(C=0.517947467923121, penalty='l1', solver='saga')\n",
            "     Best score :  0.8083285038153192\n",
            "     Best params :  {'C': 0.517947467923121, 'penalty': 'l1', 'solver': 'saga'}\n",
            "  ------------------------------------------------\n",
            "  Evaluating the final model : \n",
            "      Cross validation scores =  [0.83823529 0.79901961 0.78817734 0.80788177]\n",
            "      The model's accuracy = 0.760\n",
            "      Model's recall = 0.656 \n"
          ]
        }
      ],
      "source": [
        "[ model_new, recall ] = logistic_regressio_model(x_new ,y_new, numerical)"
      ]
    },
    {
      "cell_type": "markdown",
      "metadata": {
        "id": "vZT2H0HIcoe9"
      },
      "source": [
        "**Saving the model**"
      ]
    },
    {
      "cell_type": "code",
      "execution_count": 364,
      "metadata": {
        "id": "1fZlNagTcoKM"
      },
      "outputs": [],
      "source": [
        "model_history.append( [ x_new, model_new, recall ] )"
      ]
    },
    {
      "cell_type": "code",
      "execution_count": 365,
      "metadata": {
        "id": "mnJekVvnfuYS"
      },
      "outputs": [],
      "source": [
        "x_final = dataset_original.copy()"
      ]
    },
    {
      "cell_type": "code",
      "execution_count": 366,
      "metadata": {
        "colab": {
          "base_uri": "https://localhost:8080/"
        },
        "id": "hlrwuC3fgJtJ",
        "outputId": "282735d5-9c6d-421b-af50-4a3d3d66856d"
      },
      "outputs": [
        {
          "data": {
            "text/plain": [
              "age                    0.274112\n",
              "resting bpm            0.171239\n",
              "cholesterol            0.105813\n",
              "fasting blood sugar    0.115842\n",
              "resting ecg            0.126441\n",
              "max heart rate        -0.387733\n",
              "exercise angina        0.519148\n",
              "oldpeak                0.470201\n",
              "danger                 1.000000\n",
              "Name: danger, dtype: float64"
            ]
          },
          "execution_count": 366,
          "metadata": {},
          "output_type": "execute_result"
        }
      ],
      "source": [
        "x_final.corr()['danger']"
      ]
    },
    {
      "cell_type": "code",
      "execution_count": 367,
      "metadata": {
        "colab": {
          "base_uri": "https://localhost:8080/",
          "height": 410
        },
        "id": "RWKB37lWgSV5",
        "outputId": "413a7b1a-c3ed-4215-9fa2-c8e139fcbcbd"
      },
      "outputs": [
        {
          "data": {
            "text/html": [
              "<div>\n",
              "<style scoped>\n",
              "    .dataframe tbody tr th:only-of-type {\n",
              "        vertical-align: middle;\n",
              "    }\n",
              "\n",
              "    .dataframe tbody tr th {\n",
              "        vertical-align: top;\n",
              "    }\n",
              "\n",
              "    .dataframe thead th {\n",
              "        text-align: right;\n",
              "    }\n",
              "</style>\n",
              "<table border=\"1\" class=\"dataframe\">\n",
              "  <thead>\n",
              "    <tr style=\"text-align: right;\">\n",
              "      <th></th>\n",
              "      <th>age</th>\n",
              "      <th>resting bpm</th>\n",
              "      <th>cholesterol</th>\n",
              "      <th>fasting blood sugar</th>\n",
              "      <th>resting ecg</th>\n",
              "      <th>max heart rate</th>\n",
              "      <th>exercise angina</th>\n",
              "      <th>oldpeak</th>\n",
              "      <th>danger</th>\n",
              "    </tr>\n",
              "  </thead>\n",
              "  <tbody>\n",
              "    <tr>\n",
              "      <th>age</th>\n",
              "      <td>1.000000</td>\n",
              "      <td>0.259836</td>\n",
              "      <td>0.098634</td>\n",
              "      <td>0.209705</td>\n",
              "      <td>0.209592</td>\n",
              "      <td>-0.368447</td>\n",
              "      <td>0.205113</td>\n",
              "      <td>0.263868</td>\n",
              "      <td>0.274112</td>\n",
              "    </tr>\n",
              "    <tr>\n",
              "      <th>resting bpm</th>\n",
              "      <td>0.259836</td>\n",
              "      <td>1.000000</td>\n",
              "      <td>0.112951</td>\n",
              "      <td>0.169577</td>\n",
              "      <td>0.070335</td>\n",
              "      <td>-0.110420</td>\n",
              "      <td>0.143969</td>\n",
              "      <td>0.202187</td>\n",
              "      <td>0.171239</td>\n",
              "    </tr>\n",
              "    <tr>\n",
              "      <th>cholesterol</th>\n",
              "      <td>0.098634</td>\n",
              "      <td>0.112951</td>\n",
              "      <td>1.000000</td>\n",
              "      <td>0.046838</td>\n",
              "      <td>0.100036</td>\n",
              "      <td>-0.012663</td>\n",
              "      <td>0.082348</td>\n",
              "      <td>0.053640</td>\n",
              "      <td>0.105813</td>\n",
              "    </tr>\n",
              "    <tr>\n",
              "      <th>fasting blood sugar</th>\n",
              "      <td>0.209705</td>\n",
              "      <td>0.169577</td>\n",
              "      <td>0.046838</td>\n",
              "      <td>1.000000</td>\n",
              "      <td>0.103228</td>\n",
              "      <td>-0.074700</td>\n",
              "      <td>0.082218</td>\n",
              "      <td>0.032999</td>\n",
              "      <td>0.115842</td>\n",
              "    </tr>\n",
              "    <tr>\n",
              "      <th>resting ecg</th>\n",
              "      <td>0.209592</td>\n",
              "      <td>0.070335</td>\n",
              "      <td>0.100036</td>\n",
              "      <td>0.103228</td>\n",
              "      <td>1.000000</td>\n",
              "      <td>0.027848</td>\n",
              "      <td>0.051557</td>\n",
              "      <td>0.132590</td>\n",
              "      <td>0.126441</td>\n",
              "    </tr>\n",
              "    <tr>\n",
              "      <th>max heart rate</th>\n",
              "      <td>-0.368447</td>\n",
              "      <td>-0.110420</td>\n",
              "      <td>-0.012663</td>\n",
              "      <td>-0.074700</td>\n",
              "      <td>0.027848</td>\n",
              "      <td>1.000000</td>\n",
              "      <td>-0.395850</td>\n",
              "      <td>-0.267506</td>\n",
              "      <td>-0.387733</td>\n",
              "    </tr>\n",
              "    <tr>\n",
              "      <th>exercise angina</th>\n",
              "      <td>0.205113</td>\n",
              "      <td>0.143969</td>\n",
              "      <td>0.082348</td>\n",
              "      <td>0.082218</td>\n",
              "      <td>0.051557</td>\n",
              "      <td>-0.395850</td>\n",
              "      <td>1.000000</td>\n",
              "      <td>0.407772</td>\n",
              "      <td>0.519148</td>\n",
              "    </tr>\n",
              "    <tr>\n",
              "      <th>oldpeak</th>\n",
              "      <td>0.263868</td>\n",
              "      <td>0.202187</td>\n",
              "      <td>0.053640</td>\n",
              "      <td>0.032999</td>\n",
              "      <td>0.132590</td>\n",
              "      <td>-0.267506</td>\n",
              "      <td>0.407772</td>\n",
              "      <td>1.000000</td>\n",
              "      <td>0.470201</td>\n",
              "    </tr>\n",
              "    <tr>\n",
              "      <th>danger</th>\n",
              "      <td>0.274112</td>\n",
              "      <td>0.171239</td>\n",
              "      <td>0.105813</td>\n",
              "      <td>0.115842</td>\n",
              "      <td>0.126441</td>\n",
              "      <td>-0.387733</td>\n",
              "      <td>0.519148</td>\n",
              "      <td>0.470201</td>\n",
              "      <td>1.000000</td>\n",
              "    </tr>\n",
              "  </tbody>\n",
              "</table>\n",
              "</div>"
            ],
            "text/plain": [
              "                          age  resting bpm  cholesterol  fasting blood sugar  \\\n",
              "age                  1.000000     0.259836     0.098634             0.209705   \n",
              "resting bpm          0.259836     1.000000     0.112951             0.169577   \n",
              "cholesterol          0.098634     0.112951     1.000000             0.046838   \n",
              "fasting blood sugar  0.209705     0.169577     0.046838             1.000000   \n",
              "resting ecg          0.209592     0.070335     0.100036             0.103228   \n",
              "max heart rate      -0.368447    -0.110420    -0.012663            -0.074700   \n",
              "exercise angina      0.205113     0.143969     0.082348             0.082218   \n",
              "oldpeak              0.263868     0.202187     0.053640             0.032999   \n",
              "danger               0.274112     0.171239     0.105813             0.115842   \n",
              "\n",
              "                     resting ecg  max heart rate  exercise angina   oldpeak  \\\n",
              "age                     0.209592       -0.368447         0.205113  0.263868   \n",
              "resting bpm             0.070335       -0.110420         0.143969  0.202187   \n",
              "cholesterol             0.100036       -0.012663         0.082348  0.053640   \n",
              "fasting blood sugar     0.103228       -0.074700         0.082218  0.032999   \n",
              "resting ecg             1.000000        0.027848         0.051557  0.132590   \n",
              "max heart rate          0.027848        1.000000        -0.395850 -0.267506   \n",
              "exercise angina         0.051557       -0.395850         1.000000  0.407772   \n",
              "oldpeak                 0.132590       -0.267506         0.407772  1.000000   \n",
              "danger                  0.126441       -0.387733         0.519148  0.470201   \n",
              "\n",
              "                       danger  \n",
              "age                  0.274112  \n",
              "resting bpm          0.171239  \n",
              "cholesterol          0.105813  \n",
              "fasting blood sugar  0.115842  \n",
              "resting ecg          0.126441  \n",
              "max heart rate      -0.387733  \n",
              "exercise angina      0.519148  \n",
              "oldpeak              0.470201  \n",
              "danger               1.000000  "
            ]
          },
          "execution_count": 367,
          "metadata": {},
          "output_type": "execute_result"
        }
      ],
      "source": [
        "x_final.corr()"
      ]
    },
    {
      "cell_type": "code",
      "execution_count": 368,
      "metadata": {
        "id": "GBO7lwqti_NW"
      },
      "outputs": [],
      "source": [
        "x_final.drop( columns = ['cholesterol', 'danger'] , inplace=True )"
      ]
    },
    {
      "cell_type": "code",
      "execution_count": 369,
      "metadata": {
        "colab": {
          "base_uri": "https://localhost:8080/"
        },
        "id": "LNkyK6Gsjjgw",
        "outputId": "337c477f-ffb0-4eac-8470-fb0d53572d3e"
      },
      "outputs": [
        {
          "data": {
            "text/plain": [
              "['age', 'resting bpm', 'max heart rate', 'oldpeak']"
            ]
          },
          "execution_count": 369,
          "metadata": {},
          "output_type": "execute_result"
        }
      ],
      "source": [
        "numerical_update = numerical.copy()\n",
        "numerical_update.remove('cholesterol')\n",
        "numerical_update"
      ]
    },
    {
      "cell_type": "code",
      "execution_count": 370,
      "metadata": {
        "colab": {
          "base_uri": "https://localhost:8080/"
        },
        "id": "n9k6E03kjavn",
        "outputId": "71706859-2b11-41eb-df18-dfac88bdb036"
      },
      "outputs": [
        {
          "name": "stdout",
          "output_type": "stream",
          "text": [
            " Best model characteristics : \n",
            "     Best estimator :  LogisticRegression(C=0.9102981779915218, penalty='l1', solver='saga')\n",
            "     Best score :  0.8144801023857818\n",
            "     Best params :  {'C': 0.9102981779915218, 'penalty': 'l1', 'solver': 'saga'}\n",
            "  ------------------------------------------------\n",
            "  Evaluating the final model : \n",
            "      Cross validation scores =  [0.84313725 0.79901961 0.80295567 0.81280788]\n",
            "      The model's accuracy = 0.755\n",
            "      Model's recall = 0.656 \n"
          ]
        }
      ],
      "source": [
        "[ model_final, recall ] = logistic_regressio_model(x_final ,y_new, numerical_update)"
      ]
    },
    {
      "cell_type": "code",
      "execution_count": 371,
      "metadata": {
        "id": "VGblFTmolWxN"
      },
      "outputs": [],
      "source": [
        "model_history.append( [ x_final, model_final, recall ] )"
      ]
    },
    {
      "cell_type": "code",
      "execution_count": 372,
      "metadata": {
        "id": "FxwQob1zl5Ft"
      },
      "outputs": [],
      "source": [
        "from sklearn.tree import DecisionTreeClassifier"
      ]
    },
    {
      "cell_type": "code",
      "execution_count": 373,
      "metadata": {
        "id": "xlFJfOw0me0n"
      },
      "outputs": [],
      "source": [
        "dtc = DecisionTreeClassifier()"
      ]
    },
    {
      "cell_type": "code",
      "execution_count": 374,
      "metadata": {
        "id": "0hqcjjddnwEG"
      },
      "outputs": [
        {
          "data": {
            "text/plain": [
              "0.8431372549019608"
            ]
          },
          "execution_count": 374,
          "metadata": {},
          "output_type": "execute_result"
        }
      ],
      "source": [
        "dtc.fit(x_train, y_train)\n",
        "y_predict = dtc.predict(x_test)\n",
        "accuracy = accuracy_score( y_test , y_predict )\n",
        "\n",
        "accuracy"
      ]
    },
    {
      "cell_type": "code",
      "execution_count": 375,
      "metadata": {},
      "outputs": [],
      "source": [
        "from sklearn.ensemble import RandomForestClassifier"
      ]
    },
    {
      "cell_type": "code",
      "execution_count": 376,
      "metadata": {},
      "outputs": [],
      "source": [
        "rfc = RandomForestClassifier()\n"
      ]
    },
    {
      "cell_type": "code",
      "execution_count": 377,
      "metadata": {},
      "outputs": [
        {
          "data": {
            "text/plain": [
              "0.8774509803921569"
            ]
          },
          "execution_count": 377,
          "metadata": {},
          "output_type": "execute_result"
        }
      ],
      "source": [
        "rfc.fit(x_train, y_train)\n",
        "y_predict = rfc.predict(x_test)\n",
        "accuracy = accuracy_score( y_test , y_predict )\n",
        "\n",
        "accuracy"
      ]
    }
  ],
  "metadata": {
    "colab": {
      "collapsed_sections": [],
      "include_colab_link": true,
      "provenance": []
    },
    "kernelspec": {
      "display_name": "Python 3",
      "language": "python",
      "name": "python3"
    },
    "language_info": {
      "codemirror_mode": {
        "name": "ipython",
        "version": 3
      },
      "file_extension": ".py",
      "mimetype": "text/x-python",
      "name": "python",
      "nbconvert_exporter": "python",
      "pygments_lexer": "ipython3",
      "version": "3.8.10"
    },
    "vscode": {
      "interpreter": {
        "hash": "916dbcbb3f70747c44a77c7bcd40155683ae19c65e1c03b4aa3499c5328201f1"
      }
    }
  },
  "nbformat": 4,
  "nbformat_minor": 0
}
